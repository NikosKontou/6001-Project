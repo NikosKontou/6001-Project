{
 "cells": [
  {
   "cell_type": "markdown",
   "id": "99483095-35d1-4f6b-9827-5de98b569854",
   "metadata": {},
   "source": [
    "# ITC 6001 - PROJECT - Introduction To Big Data #\n",
    "## Drouvas Panagiotis, Dendrinos Theodoros, Kontoudakis Nikolaos ##"
   ]
  },
  {
   "cell_type": "code",
   "execution_count": 44,
   "id": "a550b276-bed0-4056-b547-33a2112df493",
   "metadata": {},
   "outputs": [],
   "source": [
    "# import libraries\n",
    "import pandas as pd\n",
    "import numpy as np\n",
    "import os\n",
    "import matplotlib.pyplot as plt\n",
    "import seaborn as sns"
   ]
  },
  {
   "cell_type": "code",
   "execution_count": 72,
   "id": "fa8a43aa-59e9-420a-ae44-6e5896555109",
   "metadata": {},
   "outputs": [
    {
     "name": "stdout",
     "output_type": "stream",
     "text": [
      "/home/nikos/Documents/6001_project\n"
     ]
    }
   ],
   "source": [
    "print(os.getcwd());\n",
    "# change the following on your pc!\n",
    "# projectPath = \"/home/nikos/Documents/6001_project\"\n",
    "projectPath = \"./\"\n",
    "dataPath = projectPath + \"/ml-100k/u.data\"\n",
    "userPath = projectPath + \"/ml-100k/u.user\";\n",
    "\n",
    "#outlier sigma limit\n",
    "oSL= 3"
   ]
  },
  {
   "cell_type": "markdown",
   "id": "78b51790-8124-4974-a269-14b45358c25f",
   "metadata": {},
   "source": [
    "# Q1: Exploring the Data"
   ]
  },
  {
   "cell_type": "markdown",
   "id": "d80df788-9917-4ac9-a56d-6fb696201338",
   "metadata": {},
   "source": [
    "## Read the data"
   ]
  },
  {
   "cell_type": "code",
   "execution_count": 76,
   "id": "378e3fde-e77a-4292-bf54-48ddc5583a41",
   "metadata": {},
   "outputs": [],
   "source": [
    "uData = pd.read_csv(dataPath, sep= '\\t', header= None, names=[\"userId\", \"itemId\", \"rating\", \"timestamp\"])\n",
    "uUser = pd.read_csv(userPath, sep= '|', header= None, names=['userId', 'age', 'gender', 'occupation', 'zip_code']).drop(columns =  ['occupation', 'zip_code']).set_index(keys=\"userId\", drop= \"True\")\n",
    "pivotedData = uData.pivot(index=\"userId\", columns=\"itemId\", values=\"rating\").reset_index().rename_axis(None, axis=1).set_index(keys=\"userId\", drop= \"True\")\n",
    "#make it easier to access the column names\n",
    "pivotedData.columns = pivotedData.columns.map(str)\n",
    "# pivotedData = pivotedData.sample(frac=0.01,random_state=100, axis= 0)"
   ]
  },
  {
   "cell_type": "code",
   "execution_count": 78,
   "id": "b873c0e4-6e24-48e1-8f36-f8b881d6939d",
   "metadata": {},
   "outputs": [],
   "source": [
    "# #free testing area\n",
    "\n",
    "# display(pivotedData[pivotedData.userId== 916])\n",
    "# pivotedData.to_csv(\"export.csv\", sep=',', encoding='utf-8', index=False, header=True)\n",
    "# diferentPivotMovies = uData.pivot(index=\"itemId\", columns=\"userId\", values=\"rating\").reset_index().rename_axis(None, axis=1)\n",
    "# display(pivotedData)\n",
    "# print(diferentPivotMovies)\n",
    "\n",
    "# uData[uData.userId == 943].sum()\n",
    "# pivotedData.loc[[943]].sum(axis=1)"
   ]
  },
  {
   "cell_type": "markdown",
   "id": "30a8fa46-4461-4ea5-ae1b-c89ca22e14a9",
   "metadata": {},
   "source": [
    "## Remove outliers ##"
   ]
  },
  {
   "cell_type": "code",
   "execution_count": 81,
   "id": "a7bb46fd-bbcc-4aa5-a9b1-0b2f239834cb",
   "metadata": {},
   "outputs": [],
   "source": [
    "# for movies\n",
    "movieRatingsCount = pivotedData.notna().sum(axis= 0)\n",
    "movieRatingCountMu = np.mean(movieRatingsCount)\n",
    "movieRatingSigma = np.std(movieRatingsCount)\n",
    "ZMovieScore = ((movieRatingsCount - movieRatingCountMu)) / movieRatingSigma\n",
    "lessThan10 = movieRatingsCount < 9"
   ]
  },
  {
   "cell_type": "code",
   "execution_count": 83,
   "id": "e0e51887-ae23-4cb4-b08d-e8272ada5077",
   "metadata": {},
   "outputs": [],
   "source": [
    "# for users\n",
    "ratingsCount = pivotedData.notna().sum(axis= 1)\n",
    "mu = np.mean(ratingsCount)\n",
    "sigma = np.std(ratingsCount)\n",
    "pivotedData['ZScore'] = ((ratingsCount - mu) / sigma)\n",
    "\n",
    "#z scores for both movies and users have been calculated in advance in order to be fair.\n",
    "#otherwise if we droped some users and later calculating the movie ZScore we would also drop their ratings which would result in mistakenly calculating some movies as outliers \n",
    "removedOutliers = pivotedData[(pivotedData.ZScore > -oSL) & (pivotedData.ZScore < oSL)].drop(columns= [\"ZScore\"])\n",
    "movieOutliers = ZMovieScore[(ZMovieScore < -oSL) | (ZMovieScore > oSL)].index\n",
    "lessThan10Indexes = lessThan10[lessThan10].index\n",
    "# Drop the columns from the DataFrame\n",
    "removedOutliers = removedOutliers.drop(columns=movieOutliers, axis=1)\n",
    "removedOutliers = removedOutliers.drop(columns=lessThan10Indexes, axis=1)"
   ]
  },
  {
   "cell_type": "markdown",
   "id": "2b37dc5f-acc9-4638-93ea-9e23c8eda2a5",
   "metadata": {},
   "source": [
    "## Information ##"
   ]
  },
  {
   "cell_type": "code",
   "execution_count": 86,
   "id": "ec26a113-ec2a-412f-83ec-e3e31a139133",
   "metadata": {},
   "outputs": [
    {
     "data": {
      "text/html": [
       "<div>\n",
       "<style scoped>\n",
       "    .dataframe tbody tr th:only-of-type {\n",
       "        vertical-align: middle;\n",
       "    }\n",
       "\n",
       "    .dataframe tbody tr th {\n",
       "        vertical-align: top;\n",
       "    }\n",
       "\n",
       "    .dataframe thead th {\n",
       "        text-align: right;\n",
       "    }\n",
       "</style>\n",
       "<table border=\"1\" class=\"dataframe\">\n",
       "  <thead>\n",
       "    <tr style=\"text-align: right;\">\n",
       "      <th></th>\n",
       "      <th>2</th>\n",
       "      <th>3</th>\n",
       "      <th>4</th>\n",
       "      <th>5</th>\n",
       "      <th>6</th>\n",
       "      <th>8</th>\n",
       "      <th>9</th>\n",
       "      <th>10</th>\n",
       "      <th>11</th>\n",
       "      <th>12</th>\n",
       "      <th>...</th>\n",
       "      <th>1471</th>\n",
       "      <th>1473</th>\n",
       "      <th>1478</th>\n",
       "      <th>1480</th>\n",
       "      <th>1483</th>\n",
       "      <th>1503</th>\n",
       "      <th>1518</th>\n",
       "      <th>1540</th>\n",
       "      <th>1615</th>\n",
       "      <th>1620</th>\n",
       "    </tr>\n",
       "  </thead>\n",
       "  <tbody>\n",
       "    <tr>\n",
       "      <th>count</th>\n",
       "      <td>120.000000</td>\n",
       "      <td>83.000000</td>\n",
       "      <td>197.000000</td>\n",
       "      <td>79.000000</td>\n",
       "      <td>23.000000</td>\n",
       "      <td>210.000000</td>\n",
       "      <td>291.000000</td>\n",
       "      <td>83.00000</td>\n",
       "      <td>225.000000</td>\n",
       "      <td>255.000000</td>\n",
       "      <td>...</td>\n",
       "      <td>7.000000</td>\n",
       "      <td>8.00000</td>\n",
       "      <td>15.000000</td>\n",
       "      <td>8.000000</td>\n",
       "      <td>10.000000</td>\n",
       "      <td>8.000000</td>\n",
       "      <td>10.000000</td>\n",
       "      <td>8.00000</td>\n",
       "      <td>10.000000</td>\n",
       "      <td>9.000000</td>\n",
       "    </tr>\n",
       "    <tr>\n",
       "      <th>mean</th>\n",
       "      <td>3.208333</td>\n",
       "      <td>3.060241</td>\n",
       "      <td>3.543147</td>\n",
       "      <td>3.367089</td>\n",
       "      <td>3.739130</td>\n",
       "      <td>3.995238</td>\n",
       "      <td>3.893471</td>\n",
       "      <td>3.86747</td>\n",
       "      <td>3.871111</td>\n",
       "      <td>4.407843</td>\n",
       "      <td>...</td>\n",
       "      <td>2.714286</td>\n",
       "      <td>3.62500</td>\n",
       "      <td>2.866667</td>\n",
       "      <td>2.125000</td>\n",
       "      <td>3.400000</td>\n",
       "      <td>3.250000</td>\n",
       "      <td>3.000000</td>\n",
       "      <td>2.75000</td>\n",
       "      <td>3.000000</td>\n",
       "      <td>3.222222</td>\n",
       "    </tr>\n",
       "    <tr>\n",
       "      <th>std</th>\n",
       "      <td>0.969240</td>\n",
       "      <td>1.243023</td>\n",
       "      <td>0.971227</td>\n",
       "      <td>0.922333</td>\n",
       "      <td>1.214211</td>\n",
       "      <td>1.009513</td>\n",
       "      <td>1.046666</td>\n",
       "      <td>1.02137</td>\n",
       "      <td>1.054883</td>\n",
       "      <td>0.787662</td>\n",
       "      <td>...</td>\n",
       "      <td>1.112697</td>\n",
       "      <td>1.30247</td>\n",
       "      <td>0.990430</td>\n",
       "      <td>1.125992</td>\n",
       "      <td>1.173788</td>\n",
       "      <td>1.035098</td>\n",
       "      <td>0.816497</td>\n",
       "      <td>1.28174</td>\n",
       "      <td>1.054093</td>\n",
       "      <td>1.201850</td>\n",
       "    </tr>\n",
       "    <tr>\n",
       "      <th>min</th>\n",
       "      <td>1.000000</td>\n",
       "      <td>1.000000</td>\n",
       "      <td>1.000000</td>\n",
       "      <td>1.000000</td>\n",
       "      <td>1.000000</td>\n",
       "      <td>1.000000</td>\n",
       "      <td>1.000000</td>\n",
       "      <td>1.00000</td>\n",
       "      <td>1.000000</td>\n",
       "      <td>1.000000</td>\n",
       "      <td>...</td>\n",
       "      <td>1.000000</td>\n",
       "      <td>1.00000</td>\n",
       "      <td>1.000000</td>\n",
       "      <td>1.000000</td>\n",
       "      <td>1.000000</td>\n",
       "      <td>2.000000</td>\n",
       "      <td>2.000000</td>\n",
       "      <td>1.00000</td>\n",
       "      <td>1.000000</td>\n",
       "      <td>1.000000</td>\n",
       "    </tr>\n",
       "    <tr>\n",
       "      <th>25%</th>\n",
       "      <td>3.000000</td>\n",
       "      <td>2.000000</td>\n",
       "      <td>3.000000</td>\n",
       "      <td>3.000000</td>\n",
       "      <td>3.000000</td>\n",
       "      <td>3.000000</td>\n",
       "      <td>3.000000</td>\n",
       "      <td>3.00000</td>\n",
       "      <td>3.000000</td>\n",
       "      <td>4.000000</td>\n",
       "      <td>...</td>\n",
       "      <td>2.000000</td>\n",
       "      <td>3.00000</td>\n",
       "      <td>2.500000</td>\n",
       "      <td>1.000000</td>\n",
       "      <td>3.000000</td>\n",
       "      <td>2.750000</td>\n",
       "      <td>2.250000</td>\n",
       "      <td>2.00000</td>\n",
       "      <td>2.250000</td>\n",
       "      <td>3.000000</td>\n",
       "    </tr>\n",
       "    <tr>\n",
       "      <th>50%</th>\n",
       "      <td>3.000000</td>\n",
       "      <td>3.000000</td>\n",
       "      <td>4.000000</td>\n",
       "      <td>3.000000</td>\n",
       "      <td>4.000000</td>\n",
       "      <td>4.000000</td>\n",
       "      <td>4.000000</td>\n",
       "      <td>4.00000</td>\n",
       "      <td>4.000000</td>\n",
       "      <td>5.000000</td>\n",
       "      <td>...</td>\n",
       "      <td>3.000000</td>\n",
       "      <td>4.00000</td>\n",
       "      <td>3.000000</td>\n",
       "      <td>2.000000</td>\n",
       "      <td>4.000000</td>\n",
       "      <td>3.000000</td>\n",
       "      <td>3.000000</td>\n",
       "      <td>2.50000</td>\n",
       "      <td>3.000000</td>\n",
       "      <td>3.000000</td>\n",
       "    </tr>\n",
       "    <tr>\n",
       "      <th>75%</th>\n",
       "      <td>4.000000</td>\n",
       "      <td>4.000000</td>\n",
       "      <td>4.000000</td>\n",
       "      <td>4.000000</td>\n",
       "      <td>5.000000</td>\n",
       "      <td>5.000000</td>\n",
       "      <td>5.000000</td>\n",
       "      <td>5.00000</td>\n",
       "      <td>5.000000</td>\n",
       "      <td>5.000000</td>\n",
       "      <td>...</td>\n",
       "      <td>3.500000</td>\n",
       "      <td>4.25000</td>\n",
       "      <td>3.500000</td>\n",
       "      <td>3.000000</td>\n",
       "      <td>4.000000</td>\n",
       "      <td>4.000000</td>\n",
       "      <td>3.750000</td>\n",
       "      <td>3.25000</td>\n",
       "      <td>4.000000</td>\n",
       "      <td>4.000000</td>\n",
       "    </tr>\n",
       "    <tr>\n",
       "      <th>max</th>\n",
       "      <td>5.000000</td>\n",
       "      <td>5.000000</td>\n",
       "      <td>5.000000</td>\n",
       "      <td>5.000000</td>\n",
       "      <td>5.000000</td>\n",
       "      <td>5.000000</td>\n",
       "      <td>5.000000</td>\n",
       "      <td>5.00000</td>\n",
       "      <td>5.000000</td>\n",
       "      <td>5.000000</td>\n",
       "      <td>...</td>\n",
       "      <td>4.000000</td>\n",
       "      <td>5.00000</td>\n",
       "      <td>4.000000</td>\n",
       "      <td>4.000000</td>\n",
       "      <td>5.000000</td>\n",
       "      <td>5.000000</td>\n",
       "      <td>4.000000</td>\n",
       "      <td>5.00000</td>\n",
       "      <td>4.000000</td>\n",
       "      <td>5.000000</td>\n",
       "    </tr>\n",
       "  </tbody>\n",
       "</table>\n",
       "<p>8 rows × 1153 columns</p>\n",
       "</div>"
      ],
      "text/plain": [
       "                2          3           4          5          6           8  \\\n",
       "count  120.000000  83.000000  197.000000  79.000000  23.000000  210.000000   \n",
       "mean     3.208333   3.060241    3.543147   3.367089   3.739130    3.995238   \n",
       "std      0.969240   1.243023    0.971227   0.922333   1.214211    1.009513   \n",
       "min      1.000000   1.000000    1.000000   1.000000   1.000000    1.000000   \n",
       "25%      3.000000   2.000000    3.000000   3.000000   3.000000    3.000000   \n",
       "50%      3.000000   3.000000    4.000000   3.000000   4.000000    4.000000   \n",
       "75%      4.000000   4.000000    4.000000   4.000000   5.000000    5.000000   \n",
       "max      5.000000   5.000000    5.000000   5.000000   5.000000    5.000000   \n",
       "\n",
       "                9        10          11          12  ...      1471     1473  \\\n",
       "count  291.000000  83.00000  225.000000  255.000000  ...  7.000000  8.00000   \n",
       "mean     3.893471   3.86747    3.871111    4.407843  ...  2.714286  3.62500   \n",
       "std      1.046666   1.02137    1.054883    0.787662  ...  1.112697  1.30247   \n",
       "min      1.000000   1.00000    1.000000    1.000000  ...  1.000000  1.00000   \n",
       "25%      3.000000   3.00000    3.000000    4.000000  ...  2.000000  3.00000   \n",
       "50%      4.000000   4.00000    4.000000    5.000000  ...  3.000000  4.00000   \n",
       "75%      5.000000   5.00000    5.000000    5.000000  ...  3.500000  4.25000   \n",
       "max      5.000000   5.00000    5.000000    5.000000  ...  4.000000  5.00000   \n",
       "\n",
       "            1478      1480       1483      1503       1518     1540  \\\n",
       "count  15.000000  8.000000  10.000000  8.000000  10.000000  8.00000   \n",
       "mean    2.866667  2.125000   3.400000  3.250000   3.000000  2.75000   \n",
       "std     0.990430  1.125992   1.173788  1.035098   0.816497  1.28174   \n",
       "min     1.000000  1.000000   1.000000  2.000000   2.000000  1.00000   \n",
       "25%     2.500000  1.000000   3.000000  2.750000   2.250000  2.00000   \n",
       "50%     3.000000  2.000000   4.000000  3.000000   3.000000  2.50000   \n",
       "75%     3.500000  3.000000   4.000000  4.000000   3.750000  3.25000   \n",
       "max     4.000000  4.000000   5.000000  5.000000   4.000000  5.00000   \n",
       "\n",
       "            1615      1620  \n",
       "count  10.000000  9.000000  \n",
       "mean    3.000000  3.222222  \n",
       "std     1.054093  1.201850  \n",
       "min     1.000000  1.000000  \n",
       "25%     2.250000  3.000000  \n",
       "50%     3.000000  3.000000  \n",
       "75%     4.000000  4.000000  \n",
       "max     4.000000  5.000000  \n",
       "\n",
       "[8 rows x 1153 columns]"
      ]
     },
     "execution_count": 86,
     "metadata": {},
     "output_type": "execute_result"
    }
   ],
   "source": [
    "removedOutliers.describe()\n",
    "# pivotedData.to_csv(\"original.csv\", sep=',', encoding='utf-8', index=False, header=True)"
   ]
  },
  {
   "cell_type": "markdown",
   "id": "7a437325-6e93-4f16-b5a6-38ca913b0bf5",
   "metadata": {},
   "source": [
    "## Ploting ##\n",
    " plot the number of movies seen by each user, and the frequency of each rating"
   ]
  },
  {
   "cell_type": "code",
   "execution_count": 104,
   "id": "1b8e4636-8edd-448d-be8c-6ba91123aa53",
   "metadata": {},
   "outputs": [
    {
     "data": {
      "image/png": "[encoded data removed]",
      "text/plain": [
       "<Figure size 640x480 with 1 Axes>"
      ]
     },
     "metadata": {},
     "output_type": "display_data"
    },
    {
     "data": {
      "image/png": "[encoded data removed]",
      "text/plain": [
       "<Figure size 640x480 with 1 Axes>"
      ]
     },
     "metadata": {},
     "output_type": "display_data"
    }
   ],
   "source": [
    "plt.title('Ratings per movie')\n",
    "plt.xlabel(\"Number of movies\")\n",
    "plt.ylabel(\"Number of ratings\")\n",
    "plt.hist(removedOutliers.count(), bins= 50)"
   ]
  },
  {
   "cell_type": "code",
   "execution_count": 100,
   "id": "ce48b36e-9005-402b-b7fc-bf5c7abd9ecf",
   "metadata": {},
   "outputs": [
    {
     "data": {
      "image/png": "[encoded data removed]",
      "text/plain": [
       "<Figure size 640x480 with 1 Axes>"
      ]
     },
     "metadata": {},
     "output_type": "display_data"
    }
   ],
   "source": [
    "ratingsPerUser = removedOutliers.notnull().sum(axis=1)\n",
    "\n",
    "ratingsPerUser.hist(bins=50)\n",
    "plt.title('ratings per user')\n",
    "plt.xlabel('Number of Ratings')\n",
    "plt.ylabel('Number of Users')\n",
    "plt.grid(False)\n",
    "plt.show()\n",
    "\n"
   ]
  },
  {
   "cell_type": "markdown",
   "id": "06413080-a1b6-458c-997d-7ff520469273",
   "metadata": {},
   "source": [
    "# Q2: Basic Recommended System"
   ]
  },
  {
   "cell_type": "markdown",
   "id": "4c313dee-960f-4898-9bb2-ae8dffa09876",
   "metadata": {},
   "source": [
    "## Spliting data into train and test ##"
   ]
  },
  {
   "cell_type": "code",
   "execution_count": null,
   "id": "6b7c2e38-4ca4-45c7-8b80-b5e347c9035c",
   "metadata": {},
   "outputs": [],
   "source": [
    "#random_state property allows for repitability of the spliting\n",
    "trainData= removedOutliers.sample(frac=0.8,random_state=200, axis= 0)\n",
    "testData= removedOutliers.drop(trainData.index)"
   ]
  },
  {
   "cell_type": "code",
   "execution_count": null,
   "id": "bde4f5fa-cf99-42b2-9947-2396ee938356",
   "metadata": {},
   "outputs": [],
   "source": [
    "#get the number of ratings a movie has\n",
    "trainDataRatingsCount = trainData.notna().sum(axis= 0)\n",
    "trainData"
   ]
  },
  {
   "cell_type": "markdown",
   "id": "de8eabcc-f970-474a-80de-aedc2568d1ad",
   "metadata": {},
   "source": [
    "## Recomend movies to test users"
   ]
  },
  {
   "cell_type": "code",
   "execution_count": null,
   "id": "ddedca1c-2ba5-42a7-95a2-b8af3fb92513",
   "metadata": {},
   "outputs": [],
   "source": [
    "# we recommend for each user seperately in order to be more flexible with the calculations\n",
    "\n",
    "averageMovieRating = trainData.mean().sort_values(ascending= False)\n",
    "recommendedMovies = pd.DataFrame()\n",
    "for userIndex, row in testData.iterrows():  \n",
    "    # if we want to recomend allready seen movies\n",
    "    # notNanCols = row.dropna().index\n",
    "    # sortedCols = averageMovieRating[notNanCols].sort_values(ascending=False).index[:10]\n",
    "    \n",
    "    #recommend the top 10 movies\n",
    "    sortedCols = averageMovieRating.index[:10]\n",
    "    topValues = averageMovieRating[sortedCols].values\n",
    "    recommendedMovies.loc[userIndex, sortedCols] = topValues\n",
    "\n",
    "# remove the warning\n",
    "pd.set_option(\"future.no_silent_downcasting\", True)\n",
    "recommendedMovies = recommendedMovies.replace(b'', np.nan)\n",
    "# testData.to_csv(\"testData.csv\", sep=',', encoding='utf-8', index=True, header=True)\n",
    "# averageMovieRating.to_csv(\"AMR.csv\", sep=',', encoding='utf-8', index=True, header=True)\n",
    "# recommendedMovies.to_csv(\"recommended.csv\", sep=',', encoding='utf-8', index=True, header=True)"
   ]
  },
  {
   "cell_type": "markdown",
   "id": "bb904c2d-4bf3-470a-801f-56656d735927",
   "metadata": {},
   "source": [
    "# Evaluate results using MAE, RMSE, precision, recall, and F1."
   ]
  },
  {
   "cell_type": "code",
   "execution_count": null,
   "id": "b96746eb-ab09-40a6-b8e5-8ba2241d1ceb",
   "metadata": {},
   "outputs": [],
   "source": [
    "# calculate only for the values we predicted\n",
    "alignedObservedDf, alignedCalculatedDF = testData.align(recommendedMovies)\n",
    "validMask = ~alignedCalculatedDF.isna()\n",
    "# validMask.to_csv(\"validMask.csv\", sep=',', encoding='utf-8', index=True, header=True)\n",
    "# remove NaN values\n",
    "validOriginal = alignedObservedDf[validMask]\n",
    "validCalculated = alignedCalculatedDF[validMask]\n"
   ]
  },
  {
   "cell_type": "markdown",
   "id": "9926df8d-f919-4222-aa59-ad81ed55ff7b",
   "metadata": {},
   "source": [
    "## MAE"
   ]
  },
  {
   "cell_type": "code",
   "execution_count": null,
   "id": "f81bc231-7b62-4dfd-b346-a28dfe90e44b",
   "metadata": {},
   "outputs": [],
   "source": [
    "# mean two times for the two axis\n",
    "MAE = np.abs(validOriginal - validCalculated).mean().mean()\n",
    "MAE"
   ]
  },
  {
   "cell_type": "markdown",
   "id": "d06a4e1b-9994-4769-9876-219f65d3d145",
   "metadata": {},
   "source": [
    "## RMSE"
   ]
  },
  {
   "cell_type": "code",
   "execution_count": null,
   "id": "9ccc2c8b-54e2-4a62-afa9-443ce68e778e",
   "metadata": {},
   "outputs": [],
   "source": [
    "meanSquaredError = ((validCalculated - validOriginal) ** 2).mean().mean()\n",
    "RMSE = np.sqrt(meanSquaredError)\n",
    "RMSE"
   ]
  },
  {
   "cell_type": "code",
   "execution_count": null,
   "id": "6c6b9840-885e-4fa9-848c-00c5301b1c37",
   "metadata": {},
   "outputs": [],
   "source": [
    "# calculate precision and recall nominator.\n",
    "# seen movies that were recommended and the user rated them > 3.\n",
    "wellRated = testData[testData >= 3]\n",
    "alignedWellRated, alignedRecommended = wellRated.align(recommendedMovies)\n",
    "validWellRatedMask = ~alignedWellRated.isna()\n",
    "validRecommended = alignedRecommended[validWellRatedMask]"
   ]
  },
  {
   "cell_type": "markdown",
   "id": "37d7b062-f739-4bd3-aa5a-706017c0973b",
   "metadata": {},
   "source": [
    "## Precision"
   ]
  },
  {
   "cell_type": "code",
   "execution_count": null,
   "id": "9b3aa33a-c8a6-404a-a5b6-4d3abb2f5a9d",
   "metadata": {},
   "outputs": [],
   "source": [
    "precision = (validRecommended.notna().sum(axis= 1)/10).mean()\n",
    "precision"
   ]
  },
  {
   "cell_type": "markdown",
   "id": "a4683fed-ca07-4724-b845-b86df49578d2",
   "metadata": {},
   "source": [
    "## Recall"
   ]
  },
  {
   "cell_type": "code",
   "execution_count": null,
   "id": "14bbeddb-eae2-4c80-84cb-d81ffde6399e",
   "metadata": {},
   "outputs": [],
   "source": [
    "recall = (validRecommended.notna().sum(axis= 1)/wellRated.notna().sum(axis= 1)).mean()\n",
    "recall"
   ]
  },
  {
   "cell_type": "markdown",
   "id": "f01123c3-be10-47f7-8d72-a811ac542c8a",
   "metadata": {},
   "source": [
    "## F1 Score"
   ]
  },
  {
   "cell_type": "code",
   "execution_count": null,
   "id": "9163321e-71db-4c4a-8744-fe4feb7490db",
   "metadata": {},
   "outputs": [],
   "source": [
    "f1Score = 2* ((precision* recall)/(precision+ recall))\n",
    "f1Score"
   ]
  },
  {
   "cell_type": "markdown",
   "id": "6b945724-1200-4e1e-ac2b-b0c2206a7749",
   "metadata": {},
   "source": [
    "# Q3: Collaborative Filtering: Recommender system"
   ]
  },
  {
   "cell_type": "code",
   "execution_count": null,
   "id": "0edfc31c-d424-4000-82f4-d2b9abc6ab48",
   "metadata": {},
   "outputs": [],
   "source": [
    "#libraries \n",
    "\n",
    "\n",
    "# Dbg = open(\"./DebugFile_cosineSimilarity.txt\", \"w\")   # for debug file - to be deleted\n",
    "# Dbg.write(' > > >  initiate')\n",
    "# Dbg.close()\n",
    "# Dbg =  open(\"./DebugFile_createSimilarityMatrix.txt\", \"w\")   # for debug file - to be deleted\n",
    "# Dbg.write(' > > >  initiate')\n",
    "# Dbg.close()\n",
    "# Dbg =  open(\"./DebugFile_predictR.txt\", \"w\")   # for debug file - to be deleted\n",
    "# Dbg.write(' > > >  initiate')\n",
    "# Dbg.close()\n",
    "\n",
    "\n",
    "\n",
    "def cosineSimilarity(u1, u2):\n",
    "    #Find similarity between u1,u2 (two vectors - representing users) by finding the cosine of the angle between them\n",
    "    #cosine = cosine is the ratio of the length of the adjacent side to that of the hypotenuse of a right angle triangle\n",
    "    #similarity based on cosine -> \n",
    "    # dot product of vectors divaded by the product of the magmitudes \n",
    "\n",
    "    # Dbg =  open(\"DebugFile_cosineSimilarity.txt\", \"a\")   # for debug file - to be deleted \n",
    "    # Dbg.write('\\n')\n",
    "    # Dbg.write('\\n ----cosineSimilarity---------')\n",
    "    # Dbg.write('\\n u1,u2 => ' + str(u1) + ' , ' + str(u2))\n",
    "    # Dbg.write('\\n dot => ' + str(np.dot(u1, u2)))\n",
    "    # Dbg.write('\\n Hypotenus u1,u2 => ' + str(np.linalg.norm(u1)) + ' ... ' + str(np.linalg.norm(u2)))      \n",
    "    # Dbg.write('\\n ===============================')\n",
    "    if (np.linalg.norm(u1) * np.linalg.norm(u2)) == 0 :\n",
    "        # Dbg.write('\\n !!!! Divide by zero !!!!!')\n",
    "        return 9999999\n",
    "    else:    \n",
    "        return np.dot(u1, u2) / (np.linalg.norm(u1) * np.linalg.norm(u2))\n",
    "\n",
    "    # Dbg.close()\n",
    "\n",
    "# Similarity matrix\n",
    "def createSimilarityMatrix(df):\n",
    "    #create couple of users (all combinations) and calculate with cosin similarity all cobinations\n",
    "\n",
    "    # Dbg =  open(\"DebugFile_createSimilarityMatrix.txt\", \"a\")   # for debug file - to be deleted\n",
    "    # Dbg.write('\\n')\n",
    "    \n",
    "    similarityMatrix = pd.DataFrame(index=df.index, columns=df.index) # output\n",
    "    #iterate in all combinations\n",
    "    for i in df.index: \n",
    "        for k in df.index:\n",
    "            #similarityMatrix.loc[i, k] = cosineSimilarity(df.loc[i].fillna(0), df.loc[k].fillna(0))\n",
    "            if i == k:\n",
    "                similarityMatrix.loc[i, k] = 1 # for the combination of the same user similarity is 1 by definition \n",
    "                # Dbg.write ('\\n @ ' + str(i) + ',' + str(k) + ' = ' + str(similarityMatrix.loc[i, k] ) + ' => 1 by definition') # ->> to be commened\n",
    "            else:\n",
    "                # Dbg.write ('\\n @ ' + str(i) + ',' + str(k) + ' = ' + str(similarityMatrix.loc[i, k] ) + ' => ' + str(cosineSimilarity(df.loc[i].fillna(0), df.loc[k].fillna(0)))) # ->> to be commened\n",
    "                similarityMatrix.loc[i, k] = cosineSimilarity(df.loc[i].fillna(0), df.loc[k].fillna(0))\n",
    "    # Dbg.close()            \n",
    "    return similarityMatrix    \n",
    "\n",
    "\n",
    "# Predict Ratings based on wated waited sum of all users rating for the movie\n",
    "def predictR(df, similarityMatrix):\n",
    "    # Dbg =  open(\"DebugFile_predictR.txt\", \"a\")   # for debug file - to be deleted\n",
    "    # Dbg.write('\\n')\n",
    "    \n",
    "    predictRatings = df.copy() #create a copy for predictions\n",
    "    for user in df.index:\n",
    "        for movie in df.columns:\n",
    "            if np.isnan(df.loc[user, movie]):\n",
    "                similarU = similarityMatrix[user].drop(user).dropna() #check similarity with others - delete similarity with himself and any nulls\n",
    "                similarU = similarU[similarU > 0] #keep positive similarity\n",
    "                if not similarU.empty: #if similarity exists\n",
    "                    weightedS = sum(df.loc[similarU.index, movie] * similarU) #calculates the waited sum of all users rating for the movie\n",
    "                    # Dbg.write('\\n @ ' + user + ',' + movie + ' => ' +str(weightedS))\n",
    "                    similarityS = sum(similarU) #total similarities (to be used in the division)\n",
    "                    predictRatings.loc[user, movie] = weightedS / similarityS #prediction based on the weighted sum of the ratings divided by the sum of the similarity scores\n",
    "    # Dbg.close()\n",
    "    return predictRatings\n",
    "\n",
    "# Top x recommendations for each user\n",
    "def topXrecommendations(predictRatings, x):\n",
    "    recomm = {}\n",
    "    for user in predictRatings.index:\n",
    "        userR = predictRatings.loc[user]\n",
    "        userR = userR[userR.notna()]\n",
    "        topRecomm = userR.sort_values(ascending=False).head(x)\n",
    "        recomm[user] = topRecomm.index.tolist()\n",
    "    return recomm\n",
    "\n",
    "def Find20ofData2Hide(Random20Hiden):\n",
    "    # Selecting a random 20% of non-NaN values and returns \"True\" to \"hide\" them (all othe valuse are false\n",
    "    \n",
    "    # Selecting only non-NaN values\n",
    "    NonNaNValues = Random20Hiden.stack().reset_index(drop=False)\n",
    "    # Calculate the number of samples to select (20% of the non-NaN values to hide)\n",
    "    num_samples = int(0.2 * len(NonNaNValues))\n",
    "    \n",
    "    # Select a random sample of the non-NaN values\n",
    "    # random_state property allows for repeatability of the splitting\n",
    "    random_sample20_indices = NonNaNValues.sample(n=num_samples, random_state=200).index\n",
    "\n",
    "    #initialize dataframe with false\n",
    "    Random20Hiden = pd.DataFrame(False,index = Random20Hiden.index, columns = Random20Hiden.columns)\n",
    "    \n",
    "    # Set the selected values to NaN (Hide them from system)\n",
    "    for idx in random_sample20_indices:\n",
    "        row_idx = NonNaNValues.loc[idx, 'userId']\n",
    "        col_idx = NonNaNValues.loc[idx, 'level_1']\n",
    "        Random20Hiden.at[row_idx, col_idx] = True\n",
    "        \n",
    "    return Random20Hiden\n",
    "\n",
    "\n",
    "\n",
    "def findKSimilar (r, k,printx =False):\n",
    "    # Find the k-most similar users for each user\n",
    "    #\n",
    "    # r is the ratings matrix\n",
    "    # k is the number of most similar users\n",
    "    #\n",
    "    # returns: '\n",
    "    #similarUsers: contains the indices of the most similar users to each user\n",
    "    # similarities: is the pairwise similarities, i.e. similarities between users\n",
    "    \n",
    "    # similarUsers is 2-D matrix\n",
    "    similarUsers=-1*np.ones((nUsers,k))\n",
    "    \n",
    "    similarities=cosine_similarity(r)\n",
    "       \n",
    "    # for each user\n",
    "    \n",
    "    # find the indexes of all  users similar to i, by increasing value of similarity\n",
    "    for i in range(0, nUsers):\n",
    "        simUsersIdxs= np.argsort(similarities[:,i])\n",
    "        \n",
    "        l=0\n",
    "        #find its most similar users    \n",
    "        for j in range(simUsersIdxs.size-2, simUsersIdxs.size-1-k-1,-1):\n",
    "            if printx :\n",
    "                    print(simUsersIdxs[-k+1:],l)\n",
    "            similarUsers[i,l]=simUsersIdxs[j]\n",
    "            l=l+1\n",
    "            \n",
    "    return similarUsers, similarities\n",
    "\n",
    "def Top5RatedMovies(UserMovies):\n",
    "    # it finds average rating of each movie and returns top 5 rated movies\n",
    "\n",
    "    #calculate average per movie\n",
    "    UserMoviesAVG = UserMovies[UserMovies.notna()].sum() / UserMovies[UserMovies.notna() ].count()\n",
    "    \n",
    "\n",
    "    "
   ]
  },
  {
   "cell_type": "code",
   "execution_count": null,
   "id": "bd569521-b892-441b-aa23-ba4064acf824",
   "metadata": {},
   "outputs": [],
   "source": [
    "# Verification Libraries\n",
    "\n",
    "def MAE(Original,Calculated,x,y):\n",
    "    return np.abs(validOriginal[x:y] - validCalculated[x:y]).mean().mean()\n",
    "\n",
    "def RMSE(Original,Calculated,x,y):\n",
    "    meanSquaredError = ((validOriginal[x:y] - validCalculated[x:y]) ** 2).mean().mean()\n",
    "    return np.sqrt(meanSquaredError)\n",
    "\n",
    "#def precision(Original,Calculated,x,y):\n",
    "#    precision = (validRecommended.notna().sum(axis= 1)/10).mean()\n",
    "#    precision\n",
    "\n",
    "#def recall(Original,Calculated,x,y):\n",
    "#    recall = (validRecommended.notna().sum(axis= 1)/wellRated.notna().sum(axis= 1)).mean()\n",
    "#    recall\n",
    "\n",
    "#def f1Score():\n",
    "#    f1Score = 2* ((precision* recall)/(precision+ recall))\n",
    "#    f1Score\n",
    "\n",
    "def Hide20Data(OriginalRating,IsHideDataframe):\n",
    "    #returns a datafram with nan in evry cell that is hidden\n",
    "    OriginalRating[IsHideDataframe] = np.nan\n",
    "\n",
    "    return OriginalRating\n",
    " "
   ]
  },
  {
   "cell_type": "code",
   "execution_count": null,
   "id": "e775c552-d84f-48fe-a15f-f41f3e6e6383",
   "metadata": {},
   "outputs": [],
   "source": [
    "#create test data\n",
    "\n",
    "data = {\n",
    "    'User1': [5, 2, 2, np.nan, np.nan],\n",
    "    'User2': [np.nan, np.nan, np.nan, np.nan, np.nan],\n",
    "    'User3': [4, 3, np.nan, np.nan, 5],\n",
    "    'User4': [1, 2, np.nan, np.nan, 1],\n",
    "    'User5': [1, 5, 5, np.nan, 1]\n",
    "}\n",
    "df = pd.DataFrame(data, index=['Movie1', 'Movie2', 'Movie3', 'Movie4', 'Movie5']).T\n",
    "\n",
    "print('initial = ')\n",
    "print(df)\n",
    "print('final  = ')\n",
    "isH= Find20ofData2Hide(df)\n",
    "print(isH)\n",
    "print('=====================')\n",
    "print(Hide20Data(df,isH))\n",
    "\n",
    "\n",
    "\n",
    "\n",
    "\n",
    "      \n",
    "#print(Top5RatedMovies(df))\n",
    "\n",
    "#similarity_matrix = createSimilarityMatrix(df) # Create similarity matrix\n",
    "\n",
    "\n",
    "#predicted_ratings = predictR(df, similarity_matrix) # Predict ratings\n",
    "\n",
    "\n",
    "#top_recommendations = topXrecommendations(predicted_ratings, 3) # Get top 3 recommendations for each user\n",
    "\n",
    "#print(\"Original Ratings:\")\n",
    "#print(df)\n",
    "#print(\"\\nPredicted Ratings:\")\n",
    "#print(predicted_ratings)\n",
    "#print(\"\\nTop 3 Recommendations for Each User:\")\n",
    "#print(top_recommendations)\n",
    "\n",
    "\n"
   ]
  },
  {
   "cell_type": "markdown",
   "id": "22f8ad18-2028-40ae-83c1-d5b46137a743",
   "metadata": {},
   "source": [
    "## 1.The collaborative system will be based on user similarity"
   ]
  },
  {
   "cell_type": "code",
   "execution_count": null,
   "id": "15b45008-e996-42f4-9bce-98b87079a481",
   "metadata": {},
   "outputs": [],
   "source": [
    "# Predict Ratings based on wated waited sum of all users rating for the movie\n",
    "def predictR(df, similarityMatrix):\n",
    "    #Dbg =  open(\"DebugFile_predictR.txt\", \"a\")   # for debug file - to be deleted\n",
    "    #Dbg.write('\\n')\n",
    "    \n",
    "    predictRatings = df.copy() #create a copy for predictions\n",
    "    for user in df.index:\n",
    "        for movie in df.columns:\n",
    "            if np.isnan(df.loc[user, movie]):\n",
    "                similarU = similarityMatrix[user].drop(user).dropna() #check similarity with others - delete similarity with himself and any nulls\n",
    "                similarU = similarU[similarU > 0] #keep positive similarity\n",
    "                if not similarU.empty: #if similarity exists\n",
    "                    weightedS = sum(df.loc[similarU.index, movie] * similarU) #calculates the waited sum of all users rating for the movie\n",
    "                    #Dbg.write('\\n @ ' + user + ',' + movie + ' => ' +str(weightedS))\n",
    "                    similarityS = sum(similarU) #total similarities (to be used in the division)\n",
    "                    predictRatings.loc[user, movie] = weightedS / similarityS #prediction based on the weighted sum of the ratings divided by the sum of the similarity scores\n",
    "    #Dbg.close()\n",
    "    return predictRatings\n",
    "\n",
    "# Top x recommendations for each user\n",
    "def topXrecommendations(predictRatings, x):\n",
    "    recomm = {}\n",
    "    for user in predictRatings.index:\n",
    "        userR = predictRatings.loc[user]\n",
    "        userR = userR[userR.notna()]\n",
    "        topRecomm = userR.sort_values(ascending=False).head(x)\n",
    "        recomm[user] = topRecomm.index.tolist()\n",
    "    return recomm"
   ]
  },
  {
   "cell_type": "markdown",
   "id": "5fd2a031-c14f-494f-b5cf-86f8baaa935a",
   "metadata": {},
   "source": [
    "## 2.User based similarity will be based on cosine similarity"
   ]
  },
  {
   "cell_type": "code",
   "execution_count": null,
   "id": "e51e5cc5-2bde-48f1-b838-291f9c40c5de",
   "metadata": {},
   "outputs": [],
   "source": [
    "def cosineSimilarity(u1, u2):\n",
    "    #Find similarity between u1,u2 (two vectors - representing users) by finding the cosine of the angle between them\n",
    "    #cosine = cosine is the ratio of the length of the adjacent side to that of the hypotenuse of a right angle triangle\n",
    "    #similarity based on cosine -> \n",
    "    # dot product of vectors divaded by the product of the magmitudes \n",
    "\n",
    "    #Dbg =  open(\"DebugFile_cosineSimilarity.txt\", \"a\")   # for debug file - to be deleted \n",
    "    #Dbg.write('\\n')\n",
    "    #Dbg.write('\\n ----cosineSimilarity---------')\n",
    "    #Dbg.write('\\n u1,u2 => ' + str(u1) + ' , ' + str(u2))\n",
    "    #Dbg.write('\\n dot => ' + str(np.dot(u1, u2)))\n",
    "    #Dbg.write('\\n Hypotenus u1,u2 => ' + str(np.linalg.norm(u1)) + ' ... ' + str(np.linalg.norm(u2)))      \n",
    "    #Dbg.write('\\n ===============================')\n",
    "    if (np.linalg.norm(u1) * np.linalg.norm(u2)) == 0 :\n",
    "        #Dbg.write('\\n !!!! Divide by zero !!!!!')\n",
    "        return 9999999\n",
    "    else:    \n",
    "        return np.dot(u1, u2) / (np.linalg.norm(u1) * np.linalg.norm(u2))\n",
    "\n",
    "    #Dbg.close()\n",
    "\n",
    "# Similarity matrix\n",
    "def createSimilarityMatrix(df):\n",
    "    #create couple of users (all combinations) and calculate with cosin similarity all cobinations\n",
    "\n",
    "    #Dbg =  open(\"DebugFile_createSimilarityMatrix.txt\", \"a\")   # for debug file - to be deleted\n",
    "    #Dbg.write('\\n')\n",
    "    \n",
    "    similarityMatrix = pd.DataFrame(index=df.index, columns=df.index) # output\n",
    "    #iterate in all combinations\n",
    "    for i in df.index: \n",
    "        for k in df.index:\n",
    "            #similarityMatrix.loc[i, k] = cosineSimilarity(df.loc[i].fillna(0), df.loc[k].fillna(0))\n",
    "            if i == k:\n",
    "                similarityMatrix.loc[i, k] = 1 # for the combination of the same user similarity is 1 by definition \n",
    "                #Dbg.write ('\\n @ ' + str(i) + ',' + str(k) + ' = ' + str(similarityMatrix.loc[i, k] ) + ' => 1 by definition') # ->> to be commened\n",
    "            else:\n",
    "                #Dbg.write ('\\n @ ' + str(i) + ',' + str(k) + ' = ' + str(similarityMatrix.loc[i, k] ) + ' => ' + str(cosineSimilarity(df.loc[i].fillna(0), df.loc[k].fillna(0)))) # ->> to be commened\n",
    "                similarityMatrix.loc[i, k] = cosineSimilarity(df.loc[i].fillna(0), df.loc[k].fillna(0))\n",
    "    #Dbg.close()            \n",
    "    return similarityMatrix    "
   ]
  },
  {
   "cell_type": "markdown",
   "id": "5afba0b5-46a8-437a-aeb6-a1d1918a3ac1",
   "metadata": {},
   "source": [
    "## 3.Generate the top-5 recommendations per user"
   ]
  },
  {
   "cell_type": "code",
   "execution_count": null,
   "id": "c72e0c00-81b7-450a-9f28-fea89c6cfdb6",
   "metadata": {},
   "outputs": [],
   "source": [
    "similarity_matrix = createSimilarityMatrix(removedOutliers.sample(frac=0.1,random_state=200, axis= 0)) # Create similarity matrix"
   ]
  },
  {
   "cell_type": "code",
   "execution_count": null,
   "id": "4a9fd1ac-7022-4d00-9c36-17f704b3e3e6",
   "metadata": {},
   "outputs": [],
   "source": [
    "predicted_ratings = predictR(removedOutliers.sample(frac=0.1,random_state=200, axis= 0), similarity_matrix) # Predict ratings"
   ]
  },
  {
   "cell_type": "code",
   "execution_count": null,
   "id": "ed1c1d0d-75c2-4611-b420-cd272bee351d",
   "metadata": {},
   "outputs": [],
   "source": [
    "top_recommendations = topXrecommendations(predicted_ratings, 5) # Get top 3 recommendations for each user\n",
    "similarity_matrix"
   ]
  },
  {
   "cell_type": "markdown",
   "id": "50b63d8a-6783-43e6-a62e-201aa98faae7",
   "metadata": {},
   "source": [
    "## 4.Evaluation"
   ]
  },
  {
   "cell_type": "markdown",
   "id": "3ad97c77-18fa-4020-b9ed-7b682da47d4b",
   "metadata": {},
   "source": [
    "### a. Randomly hide 20% of the interactions’ matrix (users in rows, movies in columns). That is hide 20% of the cells."
   ]
  },
  {
   "cell_type": "code",
   "execution_count": null,
   "id": "8449eebf-d023-4972-b839-06347c4b3117",
   "metadata": {},
   "outputs": [],
   "source": [
    "hiddenData = Find20ofData2Hide(removedOutliers.sample(frac=0.1,random_state=200, axis= 0))\n",
    "hiddenData.to_csv('hiddenValuesExport.csv')\n",
    "\n",
    "predictionData = pd.DataFrame()\n",
    "\n",
    "for index, row in hiddenData.iterrows():\n",
    "    # Check if any value in the row is True\n",
    "    if row.any():  \n",
    "        # row.idxmax()  \n",
    "        similarUserIds = similarity_matrix[index].drop(index = index).sort_values(ascending = False).head(5)\n",
    "        similarUsers = removedOutliers.loc[pd.Series(similarUserIds.index.values)]\n",
    "        predictionData.loc[index, row.idxmax()] = similarUsers[row.idxmax()].dropna().mean()\n",
    "\n",
    "predictionData"
   ]
  },
  {
   "cell_type": "markdown",
   "id": "3cae0aa8-470a-4b5e-a086-2218d7cc0bf7",
   "metadata": {},
   "source": [
    "### b. Experiment with different user thresholds (e.g., only users with more than 20 ratings are used in predictions)."
   ]
  },
  {
   "cell_type": "code",
   "execution_count": null,
   "id": "42790fa2-4b69-4bba-9e22-5ec250e2e5a0",
   "metadata": {},
   "outputs": [],
   "source": []
  },
  {
   "cell_type": "markdown",
   "id": "aa4544c0-8d24-4256-b995-b10ee0ae6cd7",
   "metadata": {},
   "source": [
    "### c. Additional Features: Incorporate additional features (e.g., movie genres, timestamps, user demographic data) in recommendations"
   ]
  },
  {
   "cell_type": "markdown",
   "id": "72becfe0-e53f-4fb3-9d0f-228405507056",
   "metadata": {},
   "source": [
    "# Q4: Improvements:"
   ]
  },
  {
   "cell_type": "code",
   "execution_count": 70,
   "id": "e9d82caa-2bca-433c-9179-2ac1c6049e73",
   "metadata": {},
   "outputs": [
    {
     "data": {
      "image/png": "[encoded data removed]",
      "text/plain": [
       "<Figure size 800x600 with 1 Axes>"
      ]
     },
     "metadata": {},
     "output_type": "display_data"
    },
    {
     "data": {
      "image/png": "[encoded data removed]",
      "text/plain": [
       "<Figure size 640x480 with 1 Axes>"
      ]
     },
     "metadata": {},
     "output_type": "display_data"
    }
   ],
   "source": [
    "# Create the violin plot\n",
    "plt.figure(figsize=(8, 6))\n",
    "sns.violinplot(x='gender', y='age', data=uUser, palette='pastel', legend=False, hue = 'gender')\n",
    "\n",
    "# Add titles and labels\n",
    "plt.title('Distribution of Age by Gender')\n",
    "plt.xlabel('Gender')\n",
    "plt.ylabel('Age')\n",
    "plt.show()\n",
    "\n",
    "plt.hist(uUser.drop(columns = 'gender'))\n",
    "plt.title('Age distribution')\n",
    "plt.ylabel('User count')\n",
    "plt.xlabel('user age')\n",
    "plt.show()"
   ]
  },
  {
   "cell_type": "code",
   "execution_count": 26,
   "id": "b3ffbf28-3361-4a3e-9e36-979f786a24b7",
   "metadata": {},
   "outputs": [],
   "source": [
    "def getUserSimilarity(user1, user2, maxAgeDiff):\n",
    "    normalisedAge = 1- (user1['age'] - user2['age']) / maxAgeDiff\n",
    "    if (user1.gender == user2.gender):\n",
    "        return normalisedAge\n",
    "    else:\n",
    "        return (0.8 * normalisedAge)\n",
    "    "
   ]
  },
  {
   "cell_type": "code",
   "execution_count": 39,
   "id": "a1b3862e-c214-4a85-9e14-168aee3f4012",
   "metadata": {},
   "outputs": [
    {
     "name": "stdout",
     "output_type": "stream",
     "text": [
      "1.0\n"
     ]
    }
   ],
   "source": [
    "# uUser\n",
    "maxAge = uUser.age.max()\n",
    "minAge = uUser.age.min()\n",
    "maxAgeDiff =maxAge - minAge\n",
    "print(getUserSimilarity(uUser.loc[15], uUser.loc[98], maxAgeDiff))"
   ]
  },
  {
   "cell_type": "code",
   "execution_count": null,
   "id": "874f5813-d8b6-4fc9-aa1c-c0c141e06a12",
   "metadata": {},
   "outputs": [],
   "source": []
  }
 ],
 "metadata": {
  "kernelspec": {
   "display_name": "Python 3 (ipykernel)",
   "language": "python",
   "name": "python3"
  },
  "language_info": {
   "codemirror_mode": {
    "name": "ipython",
    "version": 3
   },
   "file_extension": ".py",
   "mimetype": "text/x-python",
   "name": "python",
   "nbconvert_exporter": "python",
   "pygments_lexer": "ipython3",
   "version": "3.12.3"
  }
 },
 "nbformat": 4,
 "nbformat_minor": 5
}
