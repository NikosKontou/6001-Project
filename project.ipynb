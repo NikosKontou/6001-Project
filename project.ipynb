{
 "cells": [
  {
   "cell_type": "markdown",
   "id": "99483095-35d1-4f6b-9827-5de98b569854",
   "metadata": {},
   "source": [
    "# ITC 6001 - PROJECT - Introduction To Big Data #\n",
    "## Drouvas Panagiotis, Dendrinos Theodoros, Kontoudakis Nikolaos ##"
   ]
  },
  {
   "cell_type": "code",
   "execution_count": 2,
   "id": "a550b276-bed0-4056-b547-33a2112df493",
   "metadata": {},
   "outputs": [],
   "source": [
    "# import libraries\n",
    "import pandas as pd\n",
    "import numpy as np\n",
    "import os\n",
    "import matplotlib.pyplot as plt\n",
    "import seaborn as sns"
   ]
  },
  {
   "cell_type": "code",
   "execution_count": 3,
   "id": "fa8a43aa-59e9-420a-ae44-6e5896555109",
   "metadata": {},
   "outputs": [
    {
     "name": "stdout",
     "output_type": "stream",
     "text": [
      "/home/nikos/Documents/6001_project\n"
     ]
    }
   ],
   "source": [
    "print(os.getcwd());\n",
    "# change the following on your pc!\n",
    "# projectPath = \"/home/nikos/Documents/6001_project\"\n",
    "projectPath = \"./\"\n",
    "dataPath = projectPath + \"/ml-100k/u.data\"\n",
    "userPath = projectPath + \"/ml-100k/u.user\";\n",
    "\n",
    "#outlier sigma limit\n",
    "oSL= 3"
   ]
  },
  {
   "cell_type": "markdown",
   "id": "78b51790-8124-4974-a269-14b45358c25f",
   "metadata": {},
   "source": [
    "# Q1: Exploring the Data"
   ]
  },
  {
   "cell_type": "markdown",
   "id": "d80df788-9917-4ac9-a56d-6fb696201338",
   "metadata": {},
   "source": [
    "## Read the data"
   ]
  },
  {
   "cell_type": "code",
   "execution_count": 6,
   "id": "378e3fde-e77a-4292-bf54-48ddc5583a41",
   "metadata": {},
   "outputs": [],
   "source": [
    "uData = pd.read_csv(dataPath, sep= '\\t', header= None, names=[\"userId\", \"itemId\", \"rating\", \"timestamp\"])\n",
    "uUser = pd.read_csv(userPath, sep= '|', header= None, names=['userId', 'age', 'gender', 'occupation', 'zip_code']).drop(columns =  ['occupation', 'zip_code']).set_index(keys=\"userId\", drop= \"True\")\n",
    "pivotedData = uData.pivot(index=\"userId\", columns=\"itemId\", values=\"rating\").reset_index().rename_axis(None, axis=1).set_index(keys=\"userId\", drop= \"True\")\n",
    "#make it easier to access the column names\n",
    "pivotedData.columns = pivotedData.columns.map(str)\n",
    "# pivotedData = pivotedData.sample(frac=0.01,random_state=100, axis= 0)"
   ]
  },
  {
   "cell_type": "code",
   "execution_count": 7,
   "id": "b873c0e4-6e24-48e1-8f36-f8b881d6939d",
   "metadata": {},
   "outputs": [],
   "source": [
    "# #free testing area\n",
    "\n",
    "# display(pivotedData[pivotedData.userId== 916])\n",
    "# pivotedData.to_csv(\"export.csv\", sep=',', encoding='utf-8', index=False, header=True)\n",
    "# diferentPivotMovies = uData.pivot(index=\"itemId\", columns=\"userId\", values=\"rating\").reset_index().rename_axis(None, axis=1)\n",
    "# display(pivotedData)\n",
    "# print(diferentPivotMovies)\n",
    "\n",
    "# uData[uData.userId == 943].sum()\n",
    "# pivotedData.loc[[943]].sum(axis=1)"
   ]
  },
  {
   "cell_type": "markdown",
   "id": "30a8fa46-4461-4ea5-ae1b-c89ca22e14a9",
   "metadata": {},
   "source": [
    "## Remove outliers ##"
   ]
  },
  {
   "cell_type": "code",
   "execution_count": 9,
   "id": "a7bb46fd-bbcc-4aa5-a9b1-0b2f239834cb",
   "metadata": {},
   "outputs": [],
   "source": [
    "# for movies\n",
    "movieRatingsCount = pivotedData.notna().sum(axis= 0)\n",
    "movieRatingCountMu = np.mean(movieRatingsCount)\n",
    "movieRatingSigma = np.std(movieRatingsCount)\n",
    "ZMovieScore = ((movieRatingsCount - movieRatingCountMu)) / movieRatingSigma\n",
    "lessThan10 = movieRatingsCount < 9"
   ]
  },
  {
   "cell_type": "code",
   "execution_count": 10,
   "id": "e0e51887-ae23-4cb4-b08d-e8272ada5077",
   "metadata": {},
   "outputs": [],
   "source": [
    "# for users\n",
    "ratingsCount = pivotedData.notna().sum(axis= 1)\n",
    "mu = np.mean(ratingsCount)\n",
    "sigma = np.std(ratingsCount)\n",
    "pivotedData['ZScore'] = ((ratingsCount - mu) / sigma)\n",
    "\n",
    "#z scores for both movies and users have been calculated in advance in order to be fair.\n",
    "#otherwise if we droped some users and later calculating the movie ZScore we would also drop their ratings which would result in mistakenly calculating some movies as outliers \n",
    "removedOutliers = pivotedData[(pivotedData.ZScore > -oSL) & (pivotedData.ZScore < oSL)].drop(columns= [\"ZScore\"])\n",
    "movieOutliers = ZMovieScore[(ZMovieScore < -oSL) | (ZMovieScore > oSL)].index\n",
    "lessThan10Indexes = lessThan10[lessThan10].index\n",
    "# Drop the columns from the DataFrame\n",
    "removedOutliers = removedOutliers.drop(columns=movieOutliers, axis=1)\n",
    "removedOutliers = removedOutliers.drop(columns=lessThan10Indexes, axis=1)"
   ]
  },
  {
   "cell_type": "markdown",
   "id": "2b37dc5f-acc9-4638-93ea-9e23c8eda2a5",
   "metadata": {},
   "source": [
    "## Information ##"
   ]
  },
  {
   "cell_type": "code",
   "execution_count": 12,
   "id": "ec26a113-ec2a-412f-83ec-e3e31a139133",
   "metadata": {},
   "outputs": [
    {
     "data": {
      "text/html": [
       "<div>\n",
       "<style scoped>\n",
       "    .dataframe tbody tr th:only-of-type {\n",
       "        vertical-align: middle;\n",
       "    }\n",
       "\n",
       "    .dataframe tbody tr th {\n",
       "        vertical-align: top;\n",
       "    }\n",
       "\n",
       "    .dataframe thead th {\n",
       "        text-align: right;\n",
       "    }\n",
       "</style>\n",
       "<table border=\"1\" class=\"dataframe\">\n",
       "  <thead>\n",
       "    <tr style=\"text-align: right;\">\n",
       "      <th></th>\n",
       "      <th>1</th>\n",
       "      <th>2</th>\n",
       "      <th>3</th>\n",
       "      <th>4</th>\n",
       "      <th>5</th>\n",
       "      <th>6</th>\n",
       "      <th>7</th>\n",
       "      <th>8</th>\n",
       "      <th>9</th>\n",
       "      <th>10</th>\n",
       "      <th>...</th>\n",
       "      <th>1674</th>\n",
       "      <th>1675</th>\n",
       "      <th>1676</th>\n",
       "      <th>1677</th>\n",
       "      <th>1678</th>\n",
       "      <th>1679</th>\n",
       "      <th>1680</th>\n",
       "      <th>1681</th>\n",
       "      <th>1682</th>\n",
       "      <th>ZScore</th>\n",
       "    </tr>\n",
       "    <tr>\n",
       "      <th>userId</th>\n",
       "      <th></th>\n",
       "      <th></th>\n",
       "      <th></th>\n",
       "      <th></th>\n",
       "      <th></th>\n",
       "      <th></th>\n",
       "      <th></th>\n",
       "      <th></th>\n",
       "      <th></th>\n",
       "      <th></th>\n",
       "      <th></th>\n",
       "      <th></th>\n",
       "      <th></th>\n",
       "      <th></th>\n",
       "      <th></th>\n",
       "      <th></th>\n",
       "      <th></th>\n",
       "      <th></th>\n",
       "      <th></th>\n",
       "      <th></th>\n",
       "      <th></th>\n",
       "    </tr>\n",
       "  </thead>\n",
       "  <tbody>\n",
       "    <tr>\n",
       "      <th>1</th>\n",
       "      <td>5.0</td>\n",
       "      <td>3.0</td>\n",
       "      <td>4.0</td>\n",
       "      <td>3.0</td>\n",
       "      <td>3.0</td>\n",
       "      <td>5.0</td>\n",
       "      <td>4.0</td>\n",
       "      <td>1.0</td>\n",
       "      <td>5.0</td>\n",
       "      <td>3.0</td>\n",
       "      <td>...</td>\n",
       "      <td>NaN</td>\n",
       "      <td>NaN</td>\n",
       "      <td>NaN</td>\n",
       "      <td>NaN</td>\n",
       "      <td>NaN</td>\n",
       "      <td>NaN</td>\n",
       "      <td>NaN</td>\n",
       "      <td>NaN</td>\n",
       "      <td>NaN</td>\n",
       "      <td>1.645107</td>\n",
       "    </tr>\n",
       "    <tr>\n",
       "      <th>2</th>\n",
       "      <td>4.0</td>\n",
       "      <td>NaN</td>\n",
       "      <td>NaN</td>\n",
       "      <td>NaN</td>\n",
       "      <td>NaN</td>\n",
       "      <td>NaN</td>\n",
       "      <td>NaN</td>\n",
       "      <td>NaN</td>\n",
       "      <td>NaN</td>\n",
       "      <td>2.0</td>\n",
       "      <td>...</td>\n",
       "      <td>NaN</td>\n",
       "      <td>NaN</td>\n",
       "      <td>NaN</td>\n",
       "      <td>NaN</td>\n",
       "      <td>NaN</td>\n",
       "      <td>NaN</td>\n",
       "      <td>NaN</td>\n",
       "      <td>NaN</td>\n",
       "      <td>NaN</td>\n",
       "      <td>-0.436611</td>\n",
       "    </tr>\n",
       "    <tr>\n",
       "      <th>3</th>\n",
       "      <td>NaN</td>\n",
       "      <td>NaN</td>\n",
       "      <td>NaN</td>\n",
       "      <td>NaN</td>\n",
       "      <td>NaN</td>\n",
       "      <td>NaN</td>\n",
       "      <td>NaN</td>\n",
       "      <td>NaN</td>\n",
       "      <td>NaN</td>\n",
       "      <td>NaN</td>\n",
       "      <td>...</td>\n",
       "      <td>NaN</td>\n",
       "      <td>NaN</td>\n",
       "      <td>NaN</td>\n",
       "      <td>NaN</td>\n",
       "      <td>NaN</td>\n",
       "      <td>NaN</td>\n",
       "      <td>NaN</td>\n",
       "      <td>NaN</td>\n",
       "      <td>NaN</td>\n",
       "      <td>-0.515915</td>\n",
       "    </tr>\n",
       "    <tr>\n",
       "      <th>4</th>\n",
       "      <td>NaN</td>\n",
       "      <td>NaN</td>\n",
       "      <td>NaN</td>\n",
       "      <td>NaN</td>\n",
       "      <td>NaN</td>\n",
       "      <td>NaN</td>\n",
       "      <td>NaN</td>\n",
       "      <td>NaN</td>\n",
       "      <td>NaN</td>\n",
       "      <td>NaN</td>\n",
       "      <td>...</td>\n",
       "      <td>NaN</td>\n",
       "      <td>NaN</td>\n",
       "      <td>NaN</td>\n",
       "      <td>NaN</td>\n",
       "      <td>NaN</td>\n",
       "      <td>NaN</td>\n",
       "      <td>NaN</td>\n",
       "      <td>NaN</td>\n",
       "      <td>NaN</td>\n",
       "      <td>-0.813303</td>\n",
       "    </tr>\n",
       "    <tr>\n",
       "      <th>5</th>\n",
       "      <td>4.0</td>\n",
       "      <td>3.0</td>\n",
       "      <td>NaN</td>\n",
       "      <td>NaN</td>\n",
       "      <td>NaN</td>\n",
       "      <td>NaN</td>\n",
       "      <td>NaN</td>\n",
       "      <td>NaN</td>\n",
       "      <td>NaN</td>\n",
       "      <td>NaN</td>\n",
       "      <td>...</td>\n",
       "      <td>NaN</td>\n",
       "      <td>NaN</td>\n",
       "      <td>NaN</td>\n",
       "      <td>NaN</td>\n",
       "      <td>NaN</td>\n",
       "      <td>NaN</td>\n",
       "      <td>NaN</td>\n",
       "      <td>NaN</td>\n",
       "      <td>NaN</td>\n",
       "      <td>0.683552</td>\n",
       "    </tr>\n",
       "    <tr>\n",
       "      <th>...</th>\n",
       "      <td>...</td>\n",
       "      <td>...</td>\n",
       "      <td>...</td>\n",
       "      <td>...</td>\n",
       "      <td>...</td>\n",
       "      <td>...</td>\n",
       "      <td>...</td>\n",
       "      <td>...</td>\n",
       "      <td>...</td>\n",
       "      <td>...</td>\n",
       "      <td>...</td>\n",
       "      <td>...</td>\n",
       "      <td>...</td>\n",
       "      <td>...</td>\n",
       "      <td>...</td>\n",
       "      <td>...</td>\n",
       "      <td>...</td>\n",
       "      <td>...</td>\n",
       "      <td>...</td>\n",
       "      <td>...</td>\n",
       "      <td>...</td>\n",
       "    </tr>\n",
       "    <tr>\n",
       "      <th>939</th>\n",
       "      <td>NaN</td>\n",
       "      <td>NaN</td>\n",
       "      <td>NaN</td>\n",
       "      <td>NaN</td>\n",
       "      <td>NaN</td>\n",
       "      <td>NaN</td>\n",
       "      <td>NaN</td>\n",
       "      <td>NaN</td>\n",
       "      <td>5.0</td>\n",
       "      <td>NaN</td>\n",
       "      <td>...</td>\n",
       "      <td>NaN</td>\n",
       "      <td>NaN</td>\n",
       "      <td>NaN</td>\n",
       "      <td>NaN</td>\n",
       "      <td>NaN</td>\n",
       "      <td>NaN</td>\n",
       "      <td>NaN</td>\n",
       "      <td>NaN</td>\n",
       "      <td>NaN</td>\n",
       "      <td>-0.565479</td>\n",
       "    </tr>\n",
       "    <tr>\n",
       "      <th>940</th>\n",
       "      <td>NaN</td>\n",
       "      <td>NaN</td>\n",
       "      <td>NaN</td>\n",
       "      <td>2.0</td>\n",
       "      <td>NaN</td>\n",
       "      <td>NaN</td>\n",
       "      <td>4.0</td>\n",
       "      <td>5.0</td>\n",
       "      <td>3.0</td>\n",
       "      <td>NaN</td>\n",
       "      <td>...</td>\n",
       "      <td>NaN</td>\n",
       "      <td>NaN</td>\n",
       "      <td>NaN</td>\n",
       "      <td>NaN</td>\n",
       "      <td>NaN</td>\n",
       "      <td>NaN</td>\n",
       "      <td>NaN</td>\n",
       "      <td>NaN</td>\n",
       "      <td>NaN</td>\n",
       "      <td>0.009471</td>\n",
       "    </tr>\n",
       "    <tr>\n",
       "      <th>941</th>\n",
       "      <td>5.0</td>\n",
       "      <td>NaN</td>\n",
       "      <td>NaN</td>\n",
       "      <td>NaN</td>\n",
       "      <td>NaN</td>\n",
       "      <td>NaN</td>\n",
       "      <td>4.0</td>\n",
       "      <td>NaN</td>\n",
       "      <td>NaN</td>\n",
       "      <td>NaN</td>\n",
       "      <td>...</td>\n",
       "      <td>NaN</td>\n",
       "      <td>NaN</td>\n",
       "      <td>NaN</td>\n",
       "      <td>NaN</td>\n",
       "      <td>NaN</td>\n",
       "      <td>NaN</td>\n",
       "      <td>NaN</td>\n",
       "      <td>NaN</td>\n",
       "      <td>NaN</td>\n",
       "      <td>-0.833129</td>\n",
       "    </tr>\n",
       "    <tr>\n",
       "      <th>942</th>\n",
       "      <td>NaN</td>\n",
       "      <td>NaN</td>\n",
       "      <td>NaN</td>\n",
       "      <td>NaN</td>\n",
       "      <td>NaN</td>\n",
       "      <td>NaN</td>\n",
       "      <td>NaN</td>\n",
       "      <td>NaN</td>\n",
       "      <td>NaN</td>\n",
       "      <td>NaN</td>\n",
       "      <td>...</td>\n",
       "      <td>NaN</td>\n",
       "      <td>NaN</td>\n",
       "      <td>NaN</td>\n",
       "      <td>NaN</td>\n",
       "      <td>NaN</td>\n",
       "      <td>NaN</td>\n",
       "      <td>NaN</td>\n",
       "      <td>NaN</td>\n",
       "      <td>NaN</td>\n",
       "      <td>-0.268091</td>\n",
       "    </tr>\n",
       "    <tr>\n",
       "      <th>943</th>\n",
       "      <td>NaN</td>\n",
       "      <td>5.0</td>\n",
       "      <td>NaN</td>\n",
       "      <td>NaN</td>\n",
       "      <td>NaN</td>\n",
       "      <td>NaN</td>\n",
       "      <td>NaN</td>\n",
       "      <td>NaN</td>\n",
       "      <td>3.0</td>\n",
       "      <td>NaN</td>\n",
       "      <td>...</td>\n",
       "      <td>NaN</td>\n",
       "      <td>NaN</td>\n",
       "      <td>NaN</td>\n",
       "      <td>NaN</td>\n",
       "      <td>NaN</td>\n",
       "      <td>NaN</td>\n",
       "      <td>NaN</td>\n",
       "      <td>NaN</td>\n",
       "      <td>NaN</td>\n",
       "      <td>0.614161</td>\n",
       "    </tr>\n",
       "  </tbody>\n",
       "</table>\n",
       "<p>943 rows × 1683 columns</p>\n",
       "</div>"
      ],
      "text/plain": [
       "          1    2    3    4    5    6    7    8    9   10  ...  1674  1675  \\\n",
       "userId                                                    ...               \n",
       "1       5.0  3.0  4.0  3.0  3.0  5.0  4.0  1.0  5.0  3.0  ...   NaN   NaN   \n",
       "2       4.0  NaN  NaN  NaN  NaN  NaN  NaN  NaN  NaN  2.0  ...   NaN   NaN   \n",
       "3       NaN  NaN  NaN  NaN  NaN  NaN  NaN  NaN  NaN  NaN  ...   NaN   NaN   \n",
       "4       NaN  NaN  NaN  NaN  NaN  NaN  NaN  NaN  NaN  NaN  ...   NaN   NaN   \n",
       "5       4.0  3.0  NaN  NaN  NaN  NaN  NaN  NaN  NaN  NaN  ...   NaN   NaN   \n",
       "...     ...  ...  ...  ...  ...  ...  ...  ...  ...  ...  ...   ...   ...   \n",
       "939     NaN  NaN  NaN  NaN  NaN  NaN  NaN  NaN  5.0  NaN  ...   NaN   NaN   \n",
       "940     NaN  NaN  NaN  2.0  NaN  NaN  4.0  5.0  3.0  NaN  ...   NaN   NaN   \n",
       "941     5.0  NaN  NaN  NaN  NaN  NaN  4.0  NaN  NaN  NaN  ...   NaN   NaN   \n",
       "942     NaN  NaN  NaN  NaN  NaN  NaN  NaN  NaN  NaN  NaN  ...   NaN   NaN   \n",
       "943     NaN  5.0  NaN  NaN  NaN  NaN  NaN  NaN  3.0  NaN  ...   NaN   NaN   \n",
       "\n",
       "        1676  1677  1678  1679  1680  1681  1682    ZScore  \n",
       "userId                                                      \n",
       "1        NaN   NaN   NaN   NaN   NaN   NaN   NaN  1.645107  \n",
       "2        NaN   NaN   NaN   NaN   NaN   NaN   NaN -0.436611  \n",
       "3        NaN   NaN   NaN   NaN   NaN   NaN   NaN -0.515915  \n",
       "4        NaN   NaN   NaN   NaN   NaN   NaN   NaN -0.813303  \n",
       "5        NaN   NaN   NaN   NaN   NaN   NaN   NaN  0.683552  \n",
       "...      ...   ...   ...   ...   ...   ...   ...       ...  \n",
       "939      NaN   NaN   NaN   NaN   NaN   NaN   NaN -0.565479  \n",
       "940      NaN   NaN   NaN   NaN   NaN   NaN   NaN  0.009471  \n",
       "941      NaN   NaN   NaN   NaN   NaN   NaN   NaN -0.833129  \n",
       "942      NaN   NaN   NaN   NaN   NaN   NaN   NaN -0.268091  \n",
       "943      NaN   NaN   NaN   NaN   NaN   NaN   NaN  0.614161  \n",
       "\n",
       "[943 rows x 1683 columns]"
      ]
     },
     "execution_count": 12,
     "metadata": {},
     "output_type": "execute_result"
    }
   ],
   "source": [
    "removedOutliers.describe()\n",
    "pivotedData\n",
    "# removedOutliers.to_csv(\"removedOutliers.csv\", sep=',', encoding='utf-8', index=True, header=True)"
   ]
  },
  {
   "cell_type": "markdown",
   "id": "7a437325-6e93-4f16-b5a6-38ca913b0bf5",
   "metadata": {},
   "source": [
    "## Ploting ##\n",
    " plot the number of movies seen by each user, and the frequency of each rating"
   ]
  },
  {
   "cell_type": "code",
   "execution_count": 14,
   "id": "1b8e4636-8edd-448d-be8c-6ba91123aa53",
   "metadata": {},
   "outputs": [
    {
     "data": {
      "text/plain": [
       "(array([ 94., 121., 107.,  65.,  62.,  65.,  66.,  31.,  41.,  50.,  36.,\n",
       "         19.,  35.,  28.,  21.,  22.,  11.,  13.,  19.,  18.,  24.,  14.,\n",
       "          8.,  11.,  11.,  13.,   8.,  17.,  16.,   7.,   5.,   4.,   8.,\n",
       "          7.,   4.,  10.,   9.,   2.,   3.,   6.,   6.,   7.,   2.,   4.,\n",
       "          3.,   4.,   3.,   0.,   8.,   5.]),\n",
       " array([  4.  ,   9.74,  15.48,  21.22,  26.96,  32.7 ,  38.44,  44.18,\n",
       "         49.92,  55.66,  61.4 ,  67.14,  72.88,  78.62,  84.36,  90.1 ,\n",
       "         95.84, 101.58, 107.32, 113.06, 118.8 , 124.54, 130.28, 136.02,\n",
       "        141.76, 147.5 , 153.24, 158.98, 164.72, 170.46, 176.2 , 181.94,\n",
       "        187.68, 193.42, 199.16, 204.9 , 210.64, 216.38, 222.12, 227.86,\n",
       "        233.6 , 239.34, 245.08, 250.82, 256.56, 262.3 , 268.04, 273.78,\n",
       "        279.52, 285.26, 291.  ]),\n",
       " <BarContainer object of 50 artists>)"
      ]
     },
     "execution_count": 14,
     "metadata": {},
     "output_type": "execute_result"
    },
    {
     "data": {
      "image/png": "[encoded data removed]",
      "text/plain": [
       "<Figure size 640x480 with 1 Axes>"
      ]
     },
     "metadata": {},
     "output_type": "display_data"
    }
   ],
   "source": [
    "plt.title('Ratings per movie')\n",
    "plt.xlabel(\"Number of movies\")\n",
    "plt.ylabel(\"Number of ratings\")\n",
    "plt.hist(removedOutliers.count(), bins= 50)"
   ]
  },
  {
   "cell_type": "code",
   "execution_count": 15,
   "id": "2567bce7-be57-4192-b6cd-e40c8ca73fbf",
   "metadata": {},
   "outputs": [
    {
     "data": {
      "image/png": "[encoded data removed]",
      "text/plain": [
       "<Figure size 640x480 with 1 Axes>"
      ]
     },
     "metadata": {},
     "output_type": "display_data"
    },
    {
     "data": {
      "image/png": "[encoded data removed]",
      "text/plain": [
       "<Figure size 640x480 with 1 Axes>"
      ]
     },
     "metadata": {},
     "output_type": "display_data"
    }
   ],
   "source": [
    "sns.boxplot(removedOutliers.count(axis=0))\n",
    "plt.ylabel('Ratings per movie')\n",
    "plt.show()\n",
    "sns.boxplot(pivotedData.count(axis=0))\n",
    "plt.ylabel('Ratings per movie')\n",
    "plt.show()"
   ]
  },
  {
   "cell_type": "code",
   "execution_count": 16,
   "id": "ce48b36e-9005-402b-b7fc-bf5c7abd9ecf",
   "metadata": {},
   "outputs": [
    {
     "data": {
      "image/png": "[encoded data removed]",
      "text/plain": [
       "<Figure size 640x480 with 1 Axes>"
      ]
     },
     "metadata": {},
     "output_type": "display_data"
    }
   ],
   "source": [
    "ratingsPerUser = removedOutliers.notnull().sum(axis=1)\n",
    "\n",
    "ratingsPerUser.hist(bins=50)\n",
    "plt.title('ratings per user')\n",
    "plt.xlabel('Number of Ratings')\n",
    "plt.xlabel('Number of Users')\n",
    "plt.grid(False)\n",
    "plt.show()\n",
    "\n"
   ]
  },
  {
   "cell_type": "markdown",
   "id": "06413080-a1b6-458c-997d-7ff520469273",
   "metadata": {},
   "source": [
    "# Q2: Basic Recommended System"
   ]
  },
  {
   "cell_type": "markdown",
   "id": "4c313dee-960f-4898-9bb2-ae8dffa09876",
   "metadata": {},
   "source": [
    "## Spliting data into train and test ##"
   ]
  },
  {
   "cell_type": "code",
   "execution_count": 19,
   "id": "6b7c2e38-4ca4-45c7-8b80-b5e347c9035c",
   "metadata": {},
   "outputs": [],
   "source": [
    "#random_state property allows for repitability of the spliting\n",
    "trainData= removedOutliers.sample(frac=0.8,random_state=200, axis= 0)\n",
    "testData= removedOutliers.drop(trainData.index)"
   ]
  },
  {
   "cell_type": "code",
   "execution_count": 20,
   "id": "bde4f5fa-cf99-42b2-9947-2396ee938356",
   "metadata": {},
   "outputs": [
    {
     "data": {
      "text/html": [
       "<div>\n",
       "<style scoped>\n",
       "    .dataframe tbody tr th:only-of-type {\n",
       "        vertical-align: middle;\n",
       "    }\n",
       "\n",
       "    .dataframe tbody tr th {\n",
       "        vertical-align: top;\n",
       "    }\n",
       "\n",
       "    .dataframe thead th {\n",
       "        text-align: right;\n",
       "    }\n",
       "</style>\n",
       "<table border=\"1\" class=\"dataframe\">\n",
       "  <thead>\n",
       "    <tr style=\"text-align: right;\">\n",
       "      <th></th>\n",
       "      <th>2</th>\n",
       "      <th>3</th>\n",
       "      <th>4</th>\n",
       "      <th>5</th>\n",
       "      <th>6</th>\n",
       "      <th>8</th>\n",
       "      <th>9</th>\n",
       "      <th>10</th>\n",
       "      <th>11</th>\n",
       "      <th>12</th>\n",
       "      <th>...</th>\n",
       "      <th>1471</th>\n",
       "      <th>1473</th>\n",
       "      <th>1478</th>\n",
       "      <th>1480</th>\n",
       "      <th>1483</th>\n",
       "      <th>1503</th>\n",
       "      <th>1518</th>\n",
       "      <th>1540</th>\n",
       "      <th>1615</th>\n",
       "      <th>1620</th>\n",
       "    </tr>\n",
       "    <tr>\n",
       "      <th>userId</th>\n",
       "      <th></th>\n",
       "      <th></th>\n",
       "      <th></th>\n",
       "      <th></th>\n",
       "      <th></th>\n",
       "      <th></th>\n",
       "      <th></th>\n",
       "      <th></th>\n",
       "      <th></th>\n",
       "      <th></th>\n",
       "      <th></th>\n",
       "      <th></th>\n",
       "      <th></th>\n",
       "      <th></th>\n",
       "      <th></th>\n",
       "      <th></th>\n",
       "      <th></th>\n",
       "      <th></th>\n",
       "      <th></th>\n",
       "      <th></th>\n",
       "      <th></th>\n",
       "    </tr>\n",
       "  </thead>\n",
       "  <tbody>\n",
       "    <tr>\n",
       "      <th>797</th>\n",
       "      <td>NaN</td>\n",
       "      <td>NaN</td>\n",
       "      <td>NaN</td>\n",
       "      <td>NaN</td>\n",
       "      <td>NaN</td>\n",
       "      <td>NaN</td>\n",
       "      <td>NaN</td>\n",
       "      <td>NaN</td>\n",
       "      <td>NaN</td>\n",
       "      <td>NaN</td>\n",
       "      <td>...</td>\n",
       "      <td>NaN</td>\n",
       "      <td>NaN</td>\n",
       "      <td>NaN</td>\n",
       "      <td>NaN</td>\n",
       "      <td>NaN</td>\n",
       "      <td>NaN</td>\n",
       "      <td>NaN</td>\n",
       "      <td>NaN</td>\n",
       "      <td>NaN</td>\n",
       "      <td>NaN</td>\n",
       "    </tr>\n",
       "    <tr>\n",
       "      <th>182</th>\n",
       "      <td>NaN</td>\n",
       "      <td>NaN</td>\n",
       "      <td>NaN</td>\n",
       "      <td>NaN</td>\n",
       "      <td>NaN</td>\n",
       "      <td>NaN</td>\n",
       "      <td>NaN</td>\n",
       "      <td>NaN</td>\n",
       "      <td>NaN</td>\n",
       "      <td>NaN</td>\n",
       "      <td>...</td>\n",
       "      <td>NaN</td>\n",
       "      <td>NaN</td>\n",
       "      <td>NaN</td>\n",
       "      <td>NaN</td>\n",
       "      <td>NaN</td>\n",
       "      <td>NaN</td>\n",
       "      <td>NaN</td>\n",
       "      <td>NaN</td>\n",
       "      <td>NaN</td>\n",
       "      <td>NaN</td>\n",
       "    </tr>\n",
       "    <tr>\n",
       "      <th>700</th>\n",
       "      <td>NaN</td>\n",
       "      <td>NaN</td>\n",
       "      <td>NaN</td>\n",
       "      <td>NaN</td>\n",
       "      <td>NaN</td>\n",
       "      <td>NaN</td>\n",
       "      <td>NaN</td>\n",
       "      <td>NaN</td>\n",
       "      <td>NaN</td>\n",
       "      <td>NaN</td>\n",
       "      <td>...</td>\n",
       "      <td>NaN</td>\n",
       "      <td>NaN</td>\n",
       "      <td>NaN</td>\n",
       "      <td>NaN</td>\n",
       "      <td>NaN</td>\n",
       "      <td>NaN</td>\n",
       "      <td>NaN</td>\n",
       "      <td>NaN</td>\n",
       "      <td>NaN</td>\n",
       "      <td>NaN</td>\n",
       "    </tr>\n",
       "    <tr>\n",
       "      <th>903</th>\n",
       "      <td>NaN</td>\n",
       "      <td>NaN</td>\n",
       "      <td>4.0</td>\n",
       "      <td>NaN</td>\n",
       "      <td>NaN</td>\n",
       "      <td>NaN</td>\n",
       "      <td>3.0</td>\n",
       "      <td>NaN</td>\n",
       "      <td>2.0</td>\n",
       "      <td>5.0</td>\n",
       "      <td>...</td>\n",
       "      <td>NaN</td>\n",
       "      <td>NaN</td>\n",
       "      <td>NaN</td>\n",
       "      <td>NaN</td>\n",
       "      <td>NaN</td>\n",
       "      <td>NaN</td>\n",
       "      <td>NaN</td>\n",
       "      <td>NaN</td>\n",
       "      <td>NaN</td>\n",
       "      <td>NaN</td>\n",
       "    </tr>\n",
       "    <tr>\n",
       "      <th>600</th>\n",
       "      <td>3.0</td>\n",
       "      <td>NaN</td>\n",
       "      <td>4.0</td>\n",
       "      <td>NaN</td>\n",
       "      <td>NaN</td>\n",
       "      <td>NaN</td>\n",
       "      <td>NaN</td>\n",
       "      <td>NaN</td>\n",
       "      <td>5.0</td>\n",
       "      <td>NaN</td>\n",
       "      <td>...</td>\n",
       "      <td>NaN</td>\n",
       "      <td>NaN</td>\n",
       "      <td>NaN</td>\n",
       "      <td>NaN</td>\n",
       "      <td>NaN</td>\n",
       "      <td>NaN</td>\n",
       "      <td>NaN</td>\n",
       "      <td>NaN</td>\n",
       "      <td>NaN</td>\n",
       "      <td>NaN</td>\n",
       "    </tr>\n",
       "    <tr>\n",
       "      <th>...</th>\n",
       "      <td>...</td>\n",
       "      <td>...</td>\n",
       "      <td>...</td>\n",
       "      <td>...</td>\n",
       "      <td>...</td>\n",
       "      <td>...</td>\n",
       "      <td>...</td>\n",
       "      <td>...</td>\n",
       "      <td>...</td>\n",
       "      <td>...</td>\n",
       "      <td>...</td>\n",
       "      <td>...</td>\n",
       "      <td>...</td>\n",
       "      <td>...</td>\n",
       "      <td>...</td>\n",
       "      <td>...</td>\n",
       "      <td>...</td>\n",
       "      <td>...</td>\n",
       "      <td>...</td>\n",
       "      <td>...</td>\n",
       "      <td>...</td>\n",
       "    </tr>\n",
       "    <tr>\n",
       "      <th>840</th>\n",
       "      <td>NaN</td>\n",
       "      <td>NaN</td>\n",
       "      <td>NaN</td>\n",
       "      <td>NaN</td>\n",
       "      <td>NaN</td>\n",
       "      <td>5.0</td>\n",
       "      <td>NaN</td>\n",
       "      <td>NaN</td>\n",
       "      <td>3.0</td>\n",
       "      <td>NaN</td>\n",
       "      <td>...</td>\n",
       "      <td>NaN</td>\n",
       "      <td>NaN</td>\n",
       "      <td>NaN</td>\n",
       "      <td>NaN</td>\n",
       "      <td>NaN</td>\n",
       "      <td>NaN</td>\n",
       "      <td>NaN</td>\n",
       "      <td>NaN</td>\n",
       "      <td>NaN</td>\n",
       "      <td>NaN</td>\n",
       "    </tr>\n",
       "    <tr>\n",
       "      <th>23</th>\n",
       "      <td>NaN</td>\n",
       "      <td>NaN</td>\n",
       "      <td>NaN</td>\n",
       "      <td>NaN</td>\n",
       "      <td>NaN</td>\n",
       "      <td>4.0</td>\n",
       "      <td>NaN</td>\n",
       "      <td>NaN</td>\n",
       "      <td>NaN</td>\n",
       "      <td>NaN</td>\n",
       "      <td>...</td>\n",
       "      <td>NaN</td>\n",
       "      <td>NaN</td>\n",
       "      <td>NaN</td>\n",
       "      <td>NaN</td>\n",
       "      <td>NaN</td>\n",
       "      <td>NaN</td>\n",
       "      <td>NaN</td>\n",
       "      <td>NaN</td>\n",
       "      <td>NaN</td>\n",
       "      <td>NaN</td>\n",
       "    </tr>\n",
       "    <tr>\n",
       "      <th>519</th>\n",
       "      <td>NaN</td>\n",
       "      <td>NaN</td>\n",
       "      <td>NaN</td>\n",
       "      <td>NaN</td>\n",
       "      <td>NaN</td>\n",
       "      <td>NaN</td>\n",
       "      <td>NaN</td>\n",
       "      <td>NaN</td>\n",
       "      <td>NaN</td>\n",
       "      <td>NaN</td>\n",
       "      <td>...</td>\n",
       "      <td>NaN</td>\n",
       "      <td>NaN</td>\n",
       "      <td>NaN</td>\n",
       "      <td>NaN</td>\n",
       "      <td>NaN</td>\n",
       "      <td>NaN</td>\n",
       "      <td>NaN</td>\n",
       "      <td>NaN</td>\n",
       "      <td>NaN</td>\n",
       "      <td>NaN</td>\n",
       "    </tr>\n",
       "    <tr>\n",
       "      <th>497</th>\n",
       "      <td>1.0</td>\n",
       "      <td>4.0</td>\n",
       "      <td>3.0</td>\n",
       "      <td>NaN</td>\n",
       "      <td>NaN</td>\n",
       "      <td>NaN</td>\n",
       "      <td>NaN</td>\n",
       "      <td>NaN</td>\n",
       "      <td>3.0</td>\n",
       "      <td>4.0</td>\n",
       "      <td>...</td>\n",
       "      <td>NaN</td>\n",
       "      <td>NaN</td>\n",
       "      <td>NaN</td>\n",
       "      <td>NaN</td>\n",
       "      <td>NaN</td>\n",
       "      <td>NaN</td>\n",
       "      <td>NaN</td>\n",
       "      <td>NaN</td>\n",
       "      <td>3.0</td>\n",
       "      <td>NaN</td>\n",
       "    </tr>\n",
       "    <tr>\n",
       "      <th>11</th>\n",
       "      <td>NaN</td>\n",
       "      <td>NaN</td>\n",
       "      <td>NaN</td>\n",
       "      <td>NaN</td>\n",
       "      <td>NaN</td>\n",
       "      <td>4.0</td>\n",
       "      <td>5.0</td>\n",
       "      <td>NaN</td>\n",
       "      <td>2.0</td>\n",
       "      <td>2.0</td>\n",
       "      <td>...</td>\n",
       "      <td>NaN</td>\n",
       "      <td>NaN</td>\n",
       "      <td>NaN</td>\n",
       "      <td>NaN</td>\n",
       "      <td>NaN</td>\n",
       "      <td>NaN</td>\n",
       "      <td>NaN</td>\n",
       "      <td>NaN</td>\n",
       "      <td>NaN</td>\n",
       "      <td>NaN</td>\n",
       "    </tr>\n",
       "  </tbody>\n",
       "</table>\n",
       "<p>744 rows × 1153 columns</p>\n",
       "</div>"
      ],
      "text/plain": [
       "          2    3    4   5   6    8    9  10   11   12  ...  1471  1473  1478  \\\n",
       "userId                                                 ...                     \n",
       "797     NaN  NaN  NaN NaN NaN  NaN  NaN NaN  NaN  NaN  ...   NaN   NaN   NaN   \n",
       "182     NaN  NaN  NaN NaN NaN  NaN  NaN NaN  NaN  NaN  ...   NaN   NaN   NaN   \n",
       "700     NaN  NaN  NaN NaN NaN  NaN  NaN NaN  NaN  NaN  ...   NaN   NaN   NaN   \n",
       "903     NaN  NaN  4.0 NaN NaN  NaN  3.0 NaN  2.0  5.0  ...   NaN   NaN   NaN   \n",
       "600     3.0  NaN  4.0 NaN NaN  NaN  NaN NaN  5.0  NaN  ...   NaN   NaN   NaN   \n",
       "...     ...  ...  ...  ..  ..  ...  ...  ..  ...  ...  ...   ...   ...   ...   \n",
       "840     NaN  NaN  NaN NaN NaN  5.0  NaN NaN  3.0  NaN  ...   NaN   NaN   NaN   \n",
       "23      NaN  NaN  NaN NaN NaN  4.0  NaN NaN  NaN  NaN  ...   NaN   NaN   NaN   \n",
       "519     NaN  NaN  NaN NaN NaN  NaN  NaN NaN  NaN  NaN  ...   NaN   NaN   NaN   \n",
       "497     1.0  4.0  3.0 NaN NaN  NaN  NaN NaN  3.0  4.0  ...   NaN   NaN   NaN   \n",
       "11      NaN  NaN  NaN NaN NaN  4.0  5.0 NaN  2.0  2.0  ...   NaN   NaN   NaN   \n",
       "\n",
       "        1480  1483  1503  1518  1540  1615  1620  \n",
       "userId                                            \n",
       "797      NaN   NaN   NaN   NaN   NaN   NaN   NaN  \n",
       "182      NaN   NaN   NaN   NaN   NaN   NaN   NaN  \n",
       "700      NaN   NaN   NaN   NaN   NaN   NaN   NaN  \n",
       "903      NaN   NaN   NaN   NaN   NaN   NaN   NaN  \n",
       "600      NaN   NaN   NaN   NaN   NaN   NaN   NaN  \n",
       "...      ...   ...   ...   ...   ...   ...   ...  \n",
       "840      NaN   NaN   NaN   NaN   NaN   NaN   NaN  \n",
       "23       NaN   NaN   NaN   NaN   NaN   NaN   NaN  \n",
       "519      NaN   NaN   NaN   NaN   NaN   NaN   NaN  \n",
       "497      NaN   NaN   NaN   NaN   NaN   3.0   NaN  \n",
       "11       NaN   NaN   NaN   NaN   NaN   NaN   NaN  \n",
       "\n",
       "[744 rows x 1153 columns]"
      ]
     },
     "execution_count": 20,
     "metadata": {},
     "output_type": "execute_result"
    }
   ],
   "source": [
    "#get the number of ratings a movie has\n",
    "trainDataRatingsCount = trainData.notna().sum(axis= 0)\n",
    "trainData"
   ]
  },
  {
   "cell_type": "markdown",
   "id": "de8eabcc-f970-474a-80de-aedc2568d1ad",
   "metadata": {},
   "source": [
    "## Recomend movies to test users"
   ]
  },
  {
   "cell_type": "code",
   "execution_count": 22,
   "id": "ddedca1c-2ba5-42a7-95a2-b8af3fb92513",
   "metadata": {},
   "outputs": [],
   "source": [
    "# we recommend for each user seperately in order to be more flexible with the calculations\n",
    "\n",
    "averageMovieRating = trainData.mean().sort_values(ascending= False)\n",
    "recommendedMovies = pd.DataFrame()\n",
    "for userIndex, row in testData.iterrows():  \n",
    "    # if we want to recomend allready seen movies\n",
    "    # notNanCols = row.dropna().index\n",
    "    # sortedCols = averageMovieRating[notNanCols].sort_values(ascending=False).index[:10]\n",
    "    \n",
    "    #recommend the top 10 movies\n",
    "    sortedCols = averageMovieRating.index[:10]\n",
    "    topValues = averageMovieRating[sortedCols].values\n",
    "    recommendedMovies.loc[userIndex, sortedCols] = topValues\n",
    "\n",
    "# remove the warning\n",
    "pd.set_option(\"future.no_silent_downcasting\", True)\n",
    "recommendedMovies = recommendedMovies.replace(b'', np.nan)\n",
    "# testData.to_csv(\"testData.csv\", sep=',', encoding='utf-8', index=True, header=True)\n",
    "# averageMovieRating.to_csv(\"AMR.csv\", sep=',', encoding='utf-8', index=True, header=True)\n",
    "# recommendedMovies.to_csv(\"recommended.csv\", sep=',', encoding='utf-8', index=True, header=True)"
   ]
  },
  {
   "cell_type": "markdown",
   "id": "bb904c2d-4bf3-470a-801f-56656d735927",
   "metadata": {},
   "source": [
    "# Evaluate results using MAE, RMSE, precision, recall, and F1."
   ]
  },
  {
   "cell_type": "code",
   "execution_count": 24,
   "id": "b96746eb-ab09-40a6-b8e5-8ba2241d1ceb",
   "metadata": {},
   "outputs": [],
   "source": [
    "# calculate only for the values we predicted\n",
    "alignedObservedDf, alignedCalculatedDF = testData.align(recommendedMovies)\n",
    "validMask = ~alignedCalculatedDF.isna()\n",
    "# validMask.to_csv(\"validMask.csv\", sep=',', encoding='utf-8', index=True, header=True)\n",
    "# remove NaN values\n",
    "validOriginal = alignedObservedDf[validMask]\n",
    "validCalculated = alignedCalculatedDF[validMask]\n"
   ]
  },
  {
   "cell_type": "markdown",
   "id": "9926df8d-f919-4222-aa59-ad81ed55ff7b",
   "metadata": {},
   "source": [
    "## MAE"
   ]
  },
  {
   "cell_type": "code",
   "execution_count": 26,
   "id": "f81bc231-7b62-4dfd-b346-a28dfe90e44b",
   "metadata": {},
   "outputs": [
    {
     "data": {
      "text/plain": [
       "0.6008636727920661"
      ]
     },
     "execution_count": 26,
     "metadata": {},
     "output_type": "execute_result"
    }
   ],
   "source": [
    "# mean two times for the two axis\n",
    "MAE = np.abs(validOriginal - validCalculated).mean().mean()\n",
    "MAE"
   ]
  },
  {
   "cell_type": "markdown",
   "id": "d06a4e1b-9994-4769-9876-219f65d3d145",
   "metadata": {},
   "source": [
    "## RMSE"
   ]
  },
  {
   "cell_type": "code",
   "execution_count": 28,
   "id": "9ccc2c8b-54e2-4a62-afa9-443ce68e778e",
   "metadata": {},
   "outputs": [
    {
     "data": {
      "text/plain": [
       "0.7254250170067811"
      ]
     },
     "execution_count": 28,
     "metadata": {},
     "output_type": "execute_result"
    }
   ],
   "source": [
    "meanSquaredError = ((validCalculated - validOriginal) ** 2).mean().mean()\n",
    "RMSE = np.sqrt(meanSquaredError)\n",
    "RMSE"
   ]
  },
  {
   "cell_type": "code",
   "execution_count": 29,
   "id": "6c6b9840-885e-4fa9-848c-00c5301b1c37",
   "metadata": {},
   "outputs": [],
   "source": [
    "# calculate precision and recall nominator.\n",
    "# seen movies that were recommended and the user rated them > 3.\n",
    "wellRated = testData[testData >= 3]\n",
    "alignedWellRated, alignedRecommended = wellRated.align(recommendedMovies)\n",
    "validWellRatedMask = ~alignedWellRated.isna()\n",
    "validRecommended = alignedRecommended[validWellRatedMask]"
   ]
  },
  {
   "cell_type": "markdown",
   "id": "37d7b062-f739-4bd3-aa5a-706017c0973b",
   "metadata": {},
   "source": [
    "## Precision"
   ]
  },
  {
   "cell_type": "code",
   "execution_count": 31,
   "id": "9b3aa33a-c8a6-404a-a5b6-4d3abb2f5a9d",
   "metadata": {},
   "outputs": [
    {
     "data": {
      "text/plain": [
       "0.13333333333333333"
      ]
     },
     "execution_count": 31,
     "metadata": {},
     "output_type": "execute_result"
    }
   ],
   "source": [
    "precision = (validRecommended.notna().sum(axis= 1)/10).mean()\n",
    "precision"
   ]
  },
  {
   "cell_type": "markdown",
   "id": "a4683fed-ca07-4724-b845-b86df49578d2",
   "metadata": {},
   "source": [
    "## Recall"
   ]
  },
  {
   "cell_type": "code",
   "execution_count": 33,
   "id": "14bbeddb-eae2-4c80-84cb-d81ffde6399e",
   "metadata": {},
   "outputs": [
    {
     "data": {
      "text/plain": [
       "0.020571099398505436"
      ]
     },
     "execution_count": 33,
     "metadata": {},
     "output_type": "execute_result"
    }
   ],
   "source": [
    "recall = (validRecommended.notna().sum(axis= 1)/wellRated.notna().sum(axis= 1)).mean()\n",
    "recall"
   ]
  },
  {
   "cell_type": "markdown",
   "id": "f01123c3-be10-47f7-8d72-a811ac542c8a",
   "metadata": {},
   "source": [
    "## F1 Score"
   ]
  },
  {
   "cell_type": "code",
   "execution_count": 35,
   "id": "9163321e-71db-4c4a-8744-fe4feb7490db",
   "metadata": {},
   "outputs": [
    {
     "data": {
      "text/plain": [
       "0.035643070241038514"
      ]
     },
     "execution_count": 35,
     "metadata": {},
     "output_type": "execute_result"
    }
   ],
   "source": [
    "f1Score = 2* ((precision* recall)/(precision+ recall))\n",
    "f1Score"
   ]
  },
  {
   "cell_type": "markdown",
   "id": "6b945724-1200-4e1e-ac2b-b0c2206a7749",
   "metadata": {},
   "source": [
    "# Q3: Collaborative Filtering: Recommender system"
   ]
  },
  {
   "cell_type": "code",
   "execution_count": 37,
   "id": "b1b8a9ef-b583-458b-b990-b3bbd27a556b",
   "metadata": {},
   "outputs": [],
   "source": [
    "# new evaluation functions\n",
    "def MAEQ3(OriginalData, CalculatedR,IsHidden):\n",
    "    #set all other valuse to Zero (exept hedden)\n",
    "    OriginalR1 = OriginalData.where(IsHidden,other = 0) \n",
    "    CalculatedR1 = CalculatedR.where(IsHidden,other = 0) \n",
    "    MAE = np.abs(OriginalR1 - CalculatedR1).mean().mean()\n",
    "    return MAE\n",
    "\n",
    "def RMSEQ3(OriginalData,CalculatedR,IsHidden):\n",
    "    #set all other valuse to Zero (exept hedden)\n",
    "    OriginalR1 = OriginalData.where(IsHidden,other = 0) \n",
    "    CalculatedR1 = CalculatedR.where(IsHidden,other = 0) \n",
    "    meanSquaredError = ((OriginalR1 - CalculatedR1) ** 2).mean().mean()\n",
    "    return np.sqrt(meanSquaredError)\n",
    "\n",
    "def precisionQ3(Recommended,Actual,IsHeadden,CorrectRange):\n",
    "    Recommended1 = Recommended.where(IsHeadden,other = np.nan)\n",
    "    Actual1= Actual.where(IsHeadden,other = np.nan)\n",
    "    Difference  = np.abs(Actual1 - Recommended1) \n",
    "    wellRated = Recommended1.where(Difference <= CorrectRange)\n",
    "    #actual calculation of precision\n",
    "    precision = (wellRated.notna().sum(axis= 1)/10).mean()\n",
    "    return precision\n",
    "\n",
    "def recallQ3(Recommended,Actual,IsHeadden,CorrectRange):\n",
    "    Recommended1 = Recommended.where(IsHeadden,other = np.nan)\n",
    "    Actual1 = Actual.where(IsHeadden,other = np.nan)\n",
    "    Difference  = np.abs(Actual1 - Recommended1) \n",
    "    wellRated = Recommended1.where(Difference <= CorrectRange)\n",
    "    #actual calculation of recall\n",
    "    recall = (Recommended1.notna().sum(axis= 1)/wellRated.notna().sum(axis= 1)).mean()\n",
    "    return recall\n",
    "\n",
    "def f1ScoreQ3(precision,recall):\n",
    "    f1Score = 2 * ((precision * recall )/(precision + recall ))\n",
    "    return f1Score"
   ]
  },
  {
   "cell_type": "code",
   "execution_count": 38,
   "id": "9de21a71-3176-4560-98a5-b21bea01b922",
   "metadata": {},
   "outputs": [],
   "source": [
    "# helper function\n",
    "def Hide20Data(OriginalRating,IsHideDataframe):\n",
    "    #returns a dataframe with nan in evry cell that is hidden\n",
    "    OriginalRating[IsHideDataframe] = np.nan\n",
    "\n",
    "    return OriginalRating"
   ]
  },
  {
   "cell_type": "code",
   "execution_count": 39,
   "id": "0edfc31c-d424-4000-82f4-d2b9abc6ab48",
   "metadata": {},
   "outputs": [],
   "source": [
    "#libraries \n",
    "\n",
    "def cosineSimilarity(u1, u2):\n",
    "    # Dbg.write('\\n ===============================')\n",
    "    if (np.linalg.norm(u1) * np.linalg.norm(u2)) == 0 :\n",
    "        # Dbg.write('\\n !!!! Divide by zero !!!!!')\n",
    "        return 9999999\n",
    "    else:    \n",
    "        return np.dot(u1, u2) / (np.linalg.norm(u1) * np.linalg.norm(u2))\n",
    "\n",
    "\n",
    "# Top x recommendations for each user\n",
    "def topXrecommendations(predictRatings, x):\n",
    "    recomm = {}\n",
    "    for user in predictRatings.index:\n",
    "        userR = predictRatings.loc[user]\n",
    "        userR = userR[userR.notna()]\n",
    "        topRecomm = userR.sort_values(ascending=False).head(x)\n",
    "        recomm[user] = topRecomm.index.tolist()\n",
    "    return recomm\n",
    "\n",
    "def Find20ofData2Hide(Random20Hiden):\n",
    "    # Selecting a random 20% of non-NaN values and returns \"True\" to \"hide\" them (all othe valuse are false\n",
    "    \n",
    "    # Selecting only non-NaN values\n",
    "    NonNaNValues = Random20Hiden.stack().reset_index(drop=False)\n",
    "    # Calculate the number of samples to select (20% of the non-NaN values to hide)\n",
    "    num_samples = int(0.2 * len(NonNaNValues))\n",
    "    \n",
    "    # Select a random sample of the non-NaN values\n",
    "    # random_state property allows for repeatability of the splitting\n",
    "    random_sample20_indices = NonNaNValues.sample(n=num_samples, random_state=200).index\n",
    "\n",
    "    #initialize dataframe with false\n",
    "    Random20Hiden = pd.DataFrame(False,index = Random20Hiden.index, columns = Random20Hiden.columns)\n",
    "    \n",
    "    # Set the selected values to NaN (Hide them from system)\n",
    "    for idx in random_sample20_indices:\n",
    "        row_idx = NonNaNValues.loc[idx, 'userId']\n",
    "        col_idx = NonNaNValues.loc[idx, 'level_1']\n",
    "        Random20Hiden.at[row_idx, col_idx] = True\n",
    "        \n",
    "    return Random20Hiden\n",
    "\n",
    "\n",
    "\n",
    "def findKSimilar (r, k,printx =False):\n",
    "    # Find the k-most similar users for each user\n",
    "    #\n",
    "    # r is the ratings matrix\n",
    "    # k is the number of most similar users\n",
    "    #\n",
    "    # returns: '\n",
    "    #similarUsers: contains the indices of the most similar users to each user\n",
    "    # similarities: is the pairwise similarities, i.e. similarities between users\n",
    "    \n",
    "    # similarUsers is 2-D matrix\n",
    "    similarUsers=-1*np.ones((nUsers,k))\n",
    "    \n",
    "    similarities=cosine_similarity(r)\n",
    "       \n",
    "    # for each user\n",
    "    \n",
    "    # find the indexes of all  users similar to i, by increasing value of similarity\n",
    "    for i in range(0, nUsers):\n",
    "        simUsersIdxs= np.argsort(similarities[:,i])\n",
    "        \n",
    "        l=0\n",
    "        #find its most similar users    \n",
    "        for j in range(simUsersIdxs.size-2, simUsersIdxs.size-1-k-1,-1):\n",
    "            if printx :\n",
    "                    print(simUsersIdxs[-k+1:],l)\n",
    "            similarUsers[i,l]=simUsersIdxs[j]\n",
    "            l=l+1\n",
    "            \n",
    "    return similarUsers, similarities\n",
    "\n",
    "def Top5RatedMovies(UserMovies):\n",
    "    # it finds average rating of each movie and returns top 5 rated movies\n",
    "\n",
    "    #calculate average per movie\n",
    "    UserMoviesAVG = UserMovies[UserMovies.notna()].sum() / UserMovies[UserMovies.notna() ].count()\n",
    "    \n",
    "\n",
    "    "
   ]
  },
  {
   "cell_type": "code",
   "execution_count": 40,
   "id": "e775c552-d84f-48fe-a15f-f41f3e6e6383",
   "metadata": {},
   "outputs": [],
   "source": [
    "#create test data\n",
    "\n",
    "data = {\n",
    "    'User1': [5, 2, 2, np.nan, np.nan],\n",
    "    'User2': [np.nan, np.nan, np.nan, np.nan, np.nan],\n",
    "    'User3': [4, 3, np.nan, np.nan, 5],\n",
    "    'User4': [1, 2, np.nan, np.nan, 1],\n",
    "    'User5': [1, 5, 5, np.nan, 1]\n",
    "}\n",
    "df = pd.DataFrame(data, index=['Movie1', 'Movie2', 'Movie3', 'Movie4', 'Movie5']).T"
   ]
  },
  {
   "cell_type": "markdown",
   "id": "22f8ad18-2028-40ae-83c1-d5b46137a743",
   "metadata": {},
   "source": [
    "## 1.The collaborative system will be based on user similarity"
   ]
  },
  {
   "cell_type": "code",
   "execution_count": 42,
   "id": "15b45008-e996-42f4-9bce-98b87079a481",
   "metadata": {},
   "outputs": [],
   "source": [
    "# Predict Ratings based on wated waited sum of all users rating for the movie\n",
    "def predictR(df, similarityMatrix):\n",
    "    #Dbg =  open(\"DebugFile_predictR.txt\", \"a\")   # for debug file - to be deleted\n",
    "    #Dbg.write('\\n')\n",
    "    # print(similarityMatrix)\n",
    "    predictRatings = df.copy() #create a copy for predictions\n",
    "    for user in df.index:\n",
    "        for movie in df.columns:\n",
    "            if np.isnan(df.loc[user, movie]):\n",
    "                similarU = similarityMatrix[user].drop(user).dropna() #check similarity with others - delete similarity with himself and any nulls\n",
    "                # similarU = similarU[similarU > 0] #keep positive similarity\n",
    "                if not similarU.empty: #if similarity exists\n",
    "                    weightedS = sum(df.loc[similarU.index, movie] * similarU) #calculates the waited sum of all users rating for the movie\n",
    "                    #Dbg.write('\\n @ ' + user + ',' + movie + ' => ' +str(weightedS))\n",
    "                    similarityS = sum(similarU) #total similarities (to be used in the division)\n",
    "                    predictRatings.loc[user, movie] = weightedS / similarityS #prediction based on the weighted sum of the ratings divided by the sum of the similarity scores\n",
    "    #Dbg.close()\n",
    "    return predictRatings\n",
    "\n",
    "# Top x recommendations for each user\n",
    "def topXrecommendations(predictRatings, x):\n",
    "    recomm = {}\n",
    "    for user in predictRatings.index:\n",
    "        userR = predictRatings.loc[user]\n",
    "        userR = userR[userR.notna()]\n",
    "        topRecomm = userR.sort_values(ascending=False).head(x)\n",
    "        recomm[user] = topRecomm.index.tolist()\n",
    "    return recomm"
   ]
  },
  {
   "cell_type": "markdown",
   "id": "5fd2a031-c14f-494f-b5cf-86f8baaa935a",
   "metadata": {},
   "source": [
    "## 2.User based similarity will be based on cosine similarity"
   ]
  },
  {
   "cell_type": "code",
   "execution_count": 44,
   "id": "b3ffbf28-3361-4a3e-9e36-979f786a24b7",
   "metadata": {},
   "outputs": [],
   "source": [
    "def getUserSimilarity(user1, user2, maxAgeDiff):\n",
    "    normalisedAge = 1- (user1['age'] - user2['age']) / maxAgeDiff\n",
    "    if (user1.gender == user2.gender):\n",
    "        return normalisedAge\n",
    "    else:\n",
    "        return (0.8 * normalisedAge)\n",
    "    "
   ]
  },
  {
   "cell_type": "code",
   "execution_count": 45,
   "id": "a1b3862e-c214-4a85-9e14-168aee3f4012",
   "metadata": {},
   "outputs": [],
   "source": [
    "# uUser\n",
    "maxAge = uUser.age.max()\n",
    "minAge = uUser.age.min()\n",
    "maxAgeDiff =maxAge - minAge"
   ]
  },
  {
   "cell_type": "code",
   "execution_count": 46,
   "id": "e51e5cc5-2bde-48f1-b838-291f9c40c5de",
   "metadata": {},
   "outputs": [],
   "source": [
    "def cosineSimilarity(u1, u2):\n",
    "    try:\n",
    "        return np.dot(u1, u2) / (np.linalg.norm(u1) * np.linalg.norm(u2))\n",
    "    except Exception:\n",
    "        return 9999999\n",
    "\n",
    "# Similarity matrix\n",
    "def createSimilarityMatrix(df, userInformation = False, userRatingThreshold = 1):\n",
    "    #create couple of users (all combinations) and calculate with cosin similarity all cobinations\n",
    "\n",
    "    #Dbg =  open(\"DebugFile_createSimilarityMatrix.txt\", \"a\")   # for debug file - to be deleted\n",
    "    #Dbg.write('\\n')\n",
    "    \n",
    "    similarityMatrix = pd.DataFrame(index=df.index, columns=df.index) # output\n",
    "    #iterate in all combinations\n",
    "    for i in df.index: \n",
    "        for k in df.index:\n",
    "            #similarityMatrix.loc[i, k] = cosineSimilarity(df.loc[i].fillna(0), df.loc[k].fillna(0))\n",
    "            if i == k:\n",
    "                similarityMatrix.loc[i, k] = 1 # for the combination of the same user similarity is 1 by definition \n",
    "                #Dbg.write ('\\n @ ' + str(i) + ',' + str(k) + ' = ' + str(similarityMatrix.loc[i, k] ) + ' => 1 by definition') # ->> to be commened\n",
    "            else:\n",
    "                #Dbg.write ('\\n @ ' + str(i) + ',' + str(k) + ' = ' + str(similarityMatrix.loc[i, k] ) + ' => ' + str(cosineSimilarity(df.loc[i].fillna(0), df.loc[k].fillna(0)))) # ->> to be commened\n",
    "                cosineSimilatiy = cosineSimilarity(df.loc[i].fillna(0), df.loc[k].fillna(0))\n",
    "                if(userInformation == False):\n",
    "                     if(df.loc[k].count() < userRatingThreshold):\n",
    "                         similarityMatrix.loc[i, k] = 0\n",
    "                     else:\n",
    "                        similarityMatrix.loc[i, k] = cosineSimilatiy\n",
    "                else: \n",
    "                    if(df.loc[k].count() < userRatingThreshold):\n",
    "                        similarityMatrix.loc[i, k] = 0\n",
    "                    else:    \n",
    "                        userSimilarity =  getUserSimilarity(uUser.loc[i], uUser.loc[k], maxAgeDiff)\n",
    "                        similarityMatrix.loc[i, k] = ((cosineSimilatiy* 0.7) + (userSimilarity* 0.3))\n",
    "    #Dbg.close()            \n",
    "    return similarityMatrix    "
   ]
  },
  {
   "cell_type": "markdown",
   "id": "5afba0b5-46a8-437a-aeb6-a1d1918a3ac1",
   "metadata": {},
   "source": [
    "## 3.Generate the top-5 recommendations per user"
   ]
  },
  {
   "cell_type": "code",
   "execution_count": 48,
   "id": "c72e0c00-81b7-450a-9f28-fea89c6cfdb6",
   "metadata": {},
   "outputs": [],
   "source": [
    "# for performance reason we will use a fraction of the data\n",
    "perfFrac = 1\n",
    "\n",
    "similarity_matrix = createSimilarityMatrix(removedOutliers.sample(frac= perfFrac,random_state=200, axis= 0))"
   ]
  },
  {
   "cell_type": "code",
   "execution_count": 49,
   "id": "4a9fd1ac-7022-4d00-9c36-17f704b3e3e6",
   "metadata": {},
   "outputs": [],
   "source": [
    "predicted_ratings = predictR(removedOutliers.sample(frac= perfFrac, random_state=200, axis= 0), similarity_matrix) "
   ]
  },
  {
   "cell_type": "code",
   "execution_count": 50,
   "id": "ed1c1d0d-75c2-4611-b420-cd272bee351d",
   "metadata": {},
   "outputs": [],
   "source": [
    "top_recommendations = topXrecommendations(predicted_ratings, 5)"
   ]
  },
  {
   "cell_type": "markdown",
   "id": "50b63d8a-6783-43e6-a62e-201aa98faae7",
   "metadata": {},
   "source": [
    "## 4.Evaluation"
   ]
  },
  {
   "cell_type": "markdown",
   "id": "3ad97c77-18fa-4020-b9ed-7b682da47d4b",
   "metadata": {},
   "source": [
    "### a. Randomly hide 20% of the interactions’ matrix (users in rows, movies in columns). That is hide 20% of the cells."
   ]
  },
  {
   "cell_type": "code",
   "execution_count": null,
   "id": "8449eebf-d023-4972-b839-06347c4b3117",
   "metadata": {},
   "outputs": [],
   "source": [
    "hiddenData = Find20ofData2Hide(removedOutliers.sample(frac= perfFrac, random_state=200, axis= 0))\n",
    "hiddenData.to_csv('hiddenValuesExport.csv')\n",
    "\n",
    "def getPredictionData(similarity_matrix, data, neighbhours):\n",
    "    predictionData = pd.DataFrame()\n",
    "    for index, row in hiddenData.iterrows():\n",
    "        # Check if any value in the row is True\n",
    "        if row.any():  \n",
    "            # row.idxmax()  \n",
    "            similarUserIds = similarity_matrix[index].drop(index = index).sort_values(ascending = False).head(neighbhours)\n",
    "            similarUsers = data.loc[pd.Series(similarUserIds.index.values)]\n",
    "            predictionData.loc[index, row.idxmax()] = similarUsers[row.idxmax()].dropna().mean()\n",
    "    return predictionData\n",
    "    \n",
    "predictionData = getPredictionData(similarity_matrix, removedOutliers, 5)"
   ]
  },
  {
   "cell_type": "markdown",
   "id": "93cf3686-cb8a-48c9-8cc8-3c5b590739c3",
   "metadata": {},
   "source": [
    "### Evaluate the prediction"
   ]
  },
  {
   "cell_type": "code",
   "execution_count": 55,
   "id": "647466f0-7af8-442a-9dc0-547d95287469",
   "metadata": {},
   "outputs": [
    {
     "name": "stdout",
     "output_type": "stream",
     "text": [
      "0.0035068911992886575\n",
      "0.07192302767927815\n"
     ]
    }
   ],
   "source": [
    "maeRecs2= MAEQ3(removedOutliers.sample(frac= perfFrac, random_state=200, axis= 0), predictionData,hiddenData)\n",
    "print(maeRecs2)\n",
    "rmseRecs2= RMSEQ3(removedOutliers.sample(frac= perfFrac, random_state=200, axis= 0), predictionData,hiddenData)\n",
    "print(rmseRecs2)\n",
    "\n",
    "# preRecs2 = precisionQ3(predictionData, removedOutliers.sample(frac= perfFrac, random_state=200, axis= 0), hiddenData, 0.5)\n",
    "# print(preRecs2)\n",
    "# recallRecs2= recallQ3(predictionData,removedOutliers.sample(frac= perfFrac, random_state=200, axis= 0), hiddenData, 0.5)\n",
    "# print(recallRecs2)\n",
    "# f1Recs2 = f1ScoreQ3(precisionQ3, recallRecs2)\n",
    "# print(f1Recs2)"
   ]
  },
  {
   "cell_type": "markdown",
   "id": "72becfe0-e53f-4fb3-9d0f-228405507056",
   "metadata": {},
   "source": [
    "# Q4: Improvements:"
   ]
  },
  {
   "cell_type": "markdown",
   "id": "b0084067-0924-4d1c-a9c3-f55b3e406e5d",
   "metadata": {},
   "source": [
    "## Introduction of user data"
   ]
  },
  {
   "cell_type": "code",
   "execution_count": 58,
   "id": "e9d82caa-2bca-433c-9179-2ac1c6049e73",
   "metadata": {},
   "outputs": [
    {
     "data": {
      "image/png": "[encoded data removed]",
      "text/plain": [
       "<Figure size 800x600 with 1 Axes>"
      ]
     },
     "metadata": {},
     "output_type": "display_data"
    },
    {
     "data": {
      "image/png": "[encoded data removed]",
      "text/plain": [
       "<Figure size 640x480 with 1 Axes>"
      ]
     },
     "metadata": {},
     "output_type": "display_data"
    }
   ],
   "source": [
    "# Create the violin plot\n",
    "plt.figure(figsize=(8, 6))\n",
    "sns.violinplot(x='gender', y='age', data=uUser, palette='pastel', legend=False, hue = 'gender')\n",
    "\n",
    "# Add titles and labels\n",
    "plt.title('Distribution of Age by Gender')\n",
    "plt.xlabel('Gender')\n",
    "plt.ylabel('Age')\n",
    "plt.show()\n",
    "\n",
    "plt.hist(uUser.drop(columns = 'gender'))\n",
    "plt.title('Age distribution')\n",
    "plt.ylabel('User count')\n",
    "plt.xlabel('user age')\n",
    "plt.show()"
   ]
  },
  {
   "cell_type": "markdown",
   "id": "a1dd191f-9846-4320-ad6e-b2bfe1675705",
   "metadata": {},
   "source": [
    "### Tune hyperparameters of your models"
   ]
  },
  {
   "cell_type": "code",
   "execution_count": null,
   "id": "e5af0bed-3906-4c18-b2d5-95ae76e127d3",
   "metadata": {},
   "outputs": [],
   "source": [
    "best_rmse = 99999999\n",
    "best_neighbhor_count = 0\n",
    "resultsDf = pd.DataFrame(columns = ['neighbhors', 'rmse'])\n",
    "for i in range(2, 20):\n",
    "    result = getPredictionData(similarity_matrix, removedOutliers, i)\n",
    "    rmse = RMSEQ3(removedOutliers.sample(frac= perfFrac, random_state=200, axis= 0), result, hiddenData)\n",
    "    resultsDf = pd.concat([pd.DataFrame([[i, rmse]], columns=resultsDf.columns), resultsDf], ignore_index=True)\n",
    "    if(rmse < best_rmse):\n",
    "        best_rmse = rmse\n",
    "        best_neighborh_count = i\n",
    "\n",
    "resultsDf"
   ]
  },
  {
   "cell_type": "code",
   "execution_count": 61,
   "id": "b6447c2e-03a2-4635-b19f-1b90416c68b1",
   "metadata": {},
   "outputs": [
    {
     "data": {
      "image/png": "[encoded data removed]",
      "text/plain": [
       "<Figure size 800x600 with 1 Axes>"
      ]
     },
     "metadata": {},
     "output_type": "display_data"
    }
   ],
   "source": [
    "plt.figure(figsize=(8, 6))\n",
    "plt.plot(resultsDf['neighbhors'], resultsDf['rmse'], marker='o', linestyle='-', color='b', label='RMSE')\n",
    "\n",
    "plt.title('RMSE vs Neighbors', fontsize=14)\n",
    "plt.xlabel('Neighbors', fontsize=12)\n",
    "plt.ylabel('RMSE', fontsize=12)\n",
    "plt.grid(alpha=0.3)\n",
    "plt.legend()\n",
    "plt.show()\n",
    "\n",
    "#we conclude that by increasing the neighbhors we have better accuracy that starts to diminish around 13 neighborhs (cpu time vs result)"
   ]
  },
  {
   "cell_type": "markdown",
   "id": "c778a392-9ed4-4446-8b13-346bb3e4545a",
   "metadata": {},
   "source": [
    "### Experiment with different user thresholds"
   ]
  },
  {
   "cell_type": "code",
   "execution_count": null,
   "id": "1995b4ac-5ff0-44d0-88b9-62c5898d25ca",
   "metadata": {},
   "outputs": [],
   "source": [
    "similarity_matrix_with_threshold = createSimilarityMatrix(removedOutliers.sample(frac= perfFrac,random_state=200, axis= 0), userInformation = False, userRatingThreshold= 20)\n",
    "#we use the new optimised neighbhor count \n",
    "improvedPredictionData= getPredictionData(similarity_matrix_with_threshold, removedOutliers, 19)"
   ]
  },
  {
   "cell_type": "code",
   "execution_count": null,
   "id": "b425ece4-c811-404b-994a-ff15b52b2dd3",
   "metadata": {},
   "outputs": [],
   "source": [
    "maeRecs3= MAEQ3(removedOutliers.sample(frac= perfFrac, random_state=200, axis= 0), improvedPredictionData,hiddenData)\n",
    "print('Mean average error is: ', maeRecs3)\n",
    "rmseRecs3= RMSEQ3(removedOutliers.sample(frac= perfFrac, random_state=200, axis= 0), improvedPredictionData,hiddenData)\n",
    "print('Root mean square error is: ', rmseRecs3)"
   ]
  },
  {
   "cell_type": "markdown",
   "id": "12fba986-9f18-43ea-8f9a-423bcd165e64",
   "metadata": {},
   "source": [
    "### Additional Features"
   ]
  },
  {
   "cell_type": "code",
   "execution_count": null,
   "id": "874f5813-d8b6-4fc9-aa1c-c0c141e06a12",
   "metadata": {},
   "outputs": [],
   "source": [
    "similarity_matrix_with_users = createSimilarityMatrix(removedOutliers.sample(frac= perfFrac, random_state=200, axis= 0), userInformation = True)\n",
    "similarity_matrix_with_users_and_threshold = createSimilarityMatrix(removedOutliers.sample(frac= perfFrac, random_state=200, axis= 0), userInformation = True, userRatingThreshold= 20)\n",
    "resultWithUsers = getPredictionData(similarity_matrix_with_users, removedOutliers, 19)\n",
    "resultWithAllInfo = getPredictionData(similarity_matrix_with_users_and_threshold, removedOutliers, 19)"
   ]
  },
  {
   "cell_type": "code",
   "execution_count": 124,
   "id": "32e950f5-f0c2-47ca-a7a0-b45554b074f8",
   "metadata": {},
   "outputs": [
    {
     "name": "stdout",
     "output_type": "stream",
     "text": [
      "Mean average error is:  0.0037688758143773374\n",
      "Root mean square error is:  0.0706201955372672\n",
      "Mean average error is:  0.0038507194710202973\n",
      "Root mean square error is:  0.0725720268250214\n"
     ]
    }
   ],
   "source": [
    "maeRecs4= MAEQ3(removedOutliers.sample(frac= perfFrac, random_state=200, axis= 0), resultWithUsers, hiddenData)\n",
    "print('Mean average error is: ', maeRecs4)\n",
    "rmseRecs4= RMSEQ3(removedOutliers.sample(frac= perfFrac, random_state=200, axis= 0), resultWithUsers, hiddenData)\n",
    "print('Root mean square error is: ', rmseRecs4)\n",
    "\n",
    "maeRecs5= MAEQ3(removedOutliers.sample(frac= perfFrac, random_state=200, axis= 0), resultWithAllInfo, hiddenData)\n",
    "print('Mean average error is: ', maeRecs5)\n",
    "rmseRecs5= RMSEQ3(removedOutliers.sample(frac= perfFrac, random_state=200, axis= 0), resultWithAllInfo, hiddenData)\n",
    "print('Root mean square error is: ', rmseRecs5)"
   ]
  },
  {
   "cell_type": "markdown",
   "id": "9a15b39c-80ce-47bf-b175-0f7a6d1626b3",
   "metadata": {},
   "source": [
    "### Imporvements comparison"
   ]
  },
  {
   "cell_type": "code",
   "execution_count": 122,
   "id": "b481b24a-22ca-4a82-87fe-8e619ebbfc9d",
   "metadata": {},
   "outputs": [
    {
     "data": {
      "image/png": "[encoded data removed]",
      "text/plain": [
       "<Figure size 640x480 with 1 Axes>"
      ]
     },
     "metadata": {},
     "output_type": "display_data"
    }
   ],
   "source": [
    "comparisonData = [rmseRecs2, resultsDf.iloc[6].rmse, rmseRecs3, rmseRecs4, rmseRecs5]\n",
    "plt.plot(['simple', '19 NB', '20L< Ratings', 'user info', 'combined'], comparisonData)\n",
    "plt.show()"
   ]
  },
  {
   "cell_type": "code",
   "execution_count": null,
   "id": "dab9f85d-65d9-4c59-9237-ffc09aadf1ec",
   "metadata": {},
   "outputs": [],
   "source": []
  }
 ],
 "metadata": {
  "kernelspec": {
   "display_name": "Python 3 (ipykernel)",
   "language": "python",
   "name": "python3"
  },
  "language_info": {
   "codemirror_mode": {
    "name": "ipython",
    "version": 3
   },
   "file_extension": ".py",
   "mimetype": "text/x-python",
   "name": "python",
   "nbconvert_exporter": "python",
   "pygments_lexer": "ipython3",
   "version": "3.12.3"
  }
 },
 "nbformat": 4,
 "nbformat_minor": 5
}
