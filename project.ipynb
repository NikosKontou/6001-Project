{
 "cells": [
  {
   "cell_type": "markdown",
   "id": "99483095-35d1-4f6b-9827-5de98b569854",
   "metadata": {},
   "source": [
    "# ITC 6001 - PROJECT - Introduction To Big Data #\n",
    "## Drouvas Panagiotis, Dendrinos Theodoros, Kontoudakis Nikolaos ##"
   ]
  },
  {
   "cell_type": "code",
   "execution_count": 4,
   "id": "a550b276-bed0-4056-b547-33a2112df493",
   "metadata": {},
   "outputs": [],
   "source": [
    "# import libraries\n",
    "import pandas as pd\n",
    "import numpy as np\n",
    "import os\n",
    "import matplotlib.pyplot as plt"
   ]
  },
  {
   "cell_type": "code",
   "execution_count": 6,
   "id": "fa8a43aa-59e9-420a-ae44-6e5896555109",
   "metadata": {},
   "outputs": [
    {
     "name": "stdout",
     "output_type": "stream",
     "text": [
      "/home/nikos/Documents/6001_project\n"
     ]
    }
   ],
   "source": [
    "print(os.getcwd());\n",
    "# change the following on your pc!\n",
    "projectPath = \"/home/nikos/Documents/6001_project\"\n",
    "dataPath = projectPath + \"/ml-100k/u.data\"\n",
    "userPath = projectPath + \"/ml-100k/u.user\";\n",
    "\n",
    "#outlier sigma limit\n",
    "oSL= 3"
   ]
  },
  {
   "cell_type": "markdown",
   "id": "78b51790-8124-4974-a269-14b45358c25f",
   "metadata": {},
   "source": [
    "# Q1: Exploring the Data"
   ]
  },
  {
   "cell_type": "markdown",
   "id": "d80df788-9917-4ac9-a56d-6fb696201338",
   "metadata": {},
   "source": [
    "## Read the data"
   ]
  },
  {
   "cell_type": "code",
   "execution_count": 10,
   "id": "378e3fde-e77a-4292-bf54-48ddc5583a41",
   "metadata": {},
   "outputs": [],
   "source": [
    "uData = pd.read_csv(dataPath, sep= '\\t', header= None, names=[\"userId\", \"itemId\", \"rating\", \"timestamp\"])\n",
    "pivotedData = uData.pivot(index=\"userId\", columns=\"itemId\", values=\"rating\").reset_index().rename_axis(None, axis=1)"
   ]
  },
  {
   "cell_type": "code",
   "execution_count": 12,
   "id": "b873c0e4-6e24-48e1-8f36-f8b881d6939d",
   "metadata": {},
   "outputs": [],
   "source": [
    "# #free testing area\n",
    "\n",
    "# display(pivotedData[pivotedData.userId== 916])\n",
    "# pivotedData.to_csv(\"export.csv\", sep=',', encoding='utf-8', index=False, header=True)\n",
    "# diferentPivotMovies = uData.pivot(index=\"itemId\", columns=\"userId\", values=\"rating\").reset_index().rename_axis(None, axis=1)\n",
    "# display(pivotedData)\n",
    "# print(diferentPivotMovies)"
   ]
  },
  {
   "cell_type": "markdown",
   "id": "30a8fa46-4461-4ea5-ae1b-c89ca22e14a9",
   "metadata": {},
   "source": [
    "## Remove outliers ##"
   ]
  },
  {
   "cell_type": "code",
   "execution_count": 15,
   "id": "a7bb46fd-bbcc-4aa5-a9b1-0b2f239834cb",
   "metadata": {},
   "outputs": [],
   "source": [
    "# for movies\n",
    "movieRatingsCount = pivotedData.drop(columns=\"userId\").notna().sum(axis= 0)\n",
    "movieRatingCountMu = np.mean(movieRatingsCount)\n",
    "movieRatingSigma = np.std(movieRatingsCount)\n",
    "ZMovieScore = ((movieRatingsCount - movieRatingCountMu)) / movieRatingSigma"
   ]
  },
  {
   "cell_type": "code",
   "execution_count": 17,
   "id": "e0e51887-ae23-4cb4-b08d-e8272ada5077",
   "metadata": {},
   "outputs": [],
   "source": [
    "# for users\n",
    "ratingsCount = pivotedData.drop(columns= [\"userId\"]).notna().sum(axis= 1)\n",
    "mu = np.mean(ratingsCount)\n",
    "sigma = np.std(ratingsCount)\n",
    "pivotedData['ZScore'] = ((ratingsCount - mu) / sigma)\n",
    "\n",
    "#z scores for both movies and users have been calculated in advance in order to be fair.\n",
    "#otherwise if we droped some users and later calculating the movie ZScore we would also drop their ratings which would result in mistakenly calculating some movies as outliers \n",
    "removedOutliers = pivotedData[(pivotedData.ZScore > -oSL) & (pivotedData.ZScore < oSL)].drop(columns= [\"ZScore\"])\n",
    "\n",
    "movieOutliers = ZMovieScore[(ZMovieScore < -oSL) | (ZMovieScore > oSL)].index\n",
    "# Drop the columns from the DataFrame\n",
    "removedOutliers = removedOutliers.drop(columns=movieOutliers, axis=1)"
   ]
  },
  {
   "cell_type": "markdown",
   "id": "2b37dc5f-acc9-4638-93ea-9e23c8eda2a5",
   "metadata": {},
   "source": [
    "## Information ##"
   ]
  },
  {
   "cell_type": "code",
   "execution_count": 23,
   "id": "ec26a113-ec2a-412f-83ec-e3e31a139133",
   "metadata": {},
   "outputs": [
    {
     "data": {
      "text/html": [
       "<div>\n",
       "<style scoped>\n",
       "    .dataframe tbody tr th:only-of-type {\n",
       "        vertical-align: middle;\n",
       "    }\n",
       "\n",
       "    .dataframe tbody tr th {\n",
       "        vertical-align: top;\n",
       "    }\n",
       "\n",
       "    .dataframe thead th {\n",
       "        text-align: right;\n",
       "    }\n",
       "</style>\n",
       "<table border=\"1\" class=\"dataframe\">\n",
       "  <thead>\n",
       "    <tr style=\"text-align: right;\">\n",
       "      <th></th>\n",
       "      <th>2</th>\n",
       "      <th>3</th>\n",
       "      <th>4</th>\n",
       "      <th>5</th>\n",
       "      <th>6</th>\n",
       "      <th>8</th>\n",
       "      <th>9</th>\n",
       "      <th>10</th>\n",
       "      <th>11</th>\n",
       "      <th>12</th>\n",
       "      <th>...</th>\n",
       "      <th>1673</th>\n",
       "      <th>1674</th>\n",
       "      <th>1675</th>\n",
       "      <th>1676</th>\n",
       "      <th>1677</th>\n",
       "      <th>1678</th>\n",
       "      <th>1679</th>\n",
       "      <th>1680</th>\n",
       "      <th>1681</th>\n",
       "      <th>1682</th>\n",
       "    </tr>\n",
       "  </thead>\n",
       "  <tbody>\n",
       "    <tr>\n",
       "      <th>count</th>\n",
       "      <td>120.000000</td>\n",
       "      <td>83.000000</td>\n",
       "      <td>197.000000</td>\n",
       "      <td>79.000000</td>\n",
       "      <td>23.000000</td>\n",
       "      <td>210.000000</td>\n",
       "      <td>291.000000</td>\n",
       "      <td>83.00000</td>\n",
       "      <td>225.000000</td>\n",
       "      <td>255.000000</td>\n",
       "      <td>...</td>\n",
       "      <td>1.0</td>\n",
       "      <td>1.0</td>\n",
       "      <td>1.0</td>\n",
       "      <td>1.0</td>\n",
       "      <td>1.0</td>\n",
       "      <td>1.0</td>\n",
       "      <td>1.0</td>\n",
       "      <td>1.0</td>\n",
       "      <td>1.0</td>\n",
       "      <td>1.0</td>\n",
       "    </tr>\n",
       "    <tr>\n",
       "      <th>mean</th>\n",
       "      <td>3.208333</td>\n",
       "      <td>3.060241</td>\n",
       "      <td>3.543147</td>\n",
       "      <td>3.367089</td>\n",
       "      <td>3.739130</td>\n",
       "      <td>3.995238</td>\n",
       "      <td>3.893471</td>\n",
       "      <td>3.86747</td>\n",
       "      <td>3.871111</td>\n",
       "      <td>4.407843</td>\n",
       "      <td>...</td>\n",
       "      <td>3.0</td>\n",
       "      <td>4.0</td>\n",
       "      <td>3.0</td>\n",
       "      <td>2.0</td>\n",
       "      <td>3.0</td>\n",
       "      <td>1.0</td>\n",
       "      <td>3.0</td>\n",
       "      <td>2.0</td>\n",
       "      <td>3.0</td>\n",
       "      <td>3.0</td>\n",
       "    </tr>\n",
       "    <tr>\n",
       "      <th>std</th>\n",
       "      <td>0.969240</td>\n",
       "      <td>1.243023</td>\n",
       "      <td>0.971227</td>\n",
       "      <td>0.922333</td>\n",
       "      <td>1.214211</td>\n",
       "      <td>1.009513</td>\n",
       "      <td>1.046666</td>\n",
       "      <td>1.02137</td>\n",
       "      <td>1.054883</td>\n",
       "      <td>0.787662</td>\n",
       "      <td>...</td>\n",
       "      <td>NaN</td>\n",
       "      <td>NaN</td>\n",
       "      <td>NaN</td>\n",
       "      <td>NaN</td>\n",
       "      <td>NaN</td>\n",
       "      <td>NaN</td>\n",
       "      <td>NaN</td>\n",
       "      <td>NaN</td>\n",
       "      <td>NaN</td>\n",
       "      <td>NaN</td>\n",
       "    </tr>\n",
       "    <tr>\n",
       "      <th>min</th>\n",
       "      <td>1.000000</td>\n",
       "      <td>1.000000</td>\n",
       "      <td>1.000000</td>\n",
       "      <td>1.000000</td>\n",
       "      <td>1.000000</td>\n",
       "      <td>1.000000</td>\n",
       "      <td>1.000000</td>\n",
       "      <td>1.00000</td>\n",
       "      <td>1.000000</td>\n",
       "      <td>1.000000</td>\n",
       "      <td>...</td>\n",
       "      <td>3.0</td>\n",
       "      <td>4.0</td>\n",
       "      <td>3.0</td>\n",
       "      <td>2.0</td>\n",
       "      <td>3.0</td>\n",
       "      <td>1.0</td>\n",
       "      <td>3.0</td>\n",
       "      <td>2.0</td>\n",
       "      <td>3.0</td>\n",
       "      <td>3.0</td>\n",
       "    </tr>\n",
       "    <tr>\n",
       "      <th>25%</th>\n",
       "      <td>3.000000</td>\n",
       "      <td>2.000000</td>\n",
       "      <td>3.000000</td>\n",
       "      <td>3.000000</td>\n",
       "      <td>3.000000</td>\n",
       "      <td>3.000000</td>\n",
       "      <td>3.000000</td>\n",
       "      <td>3.00000</td>\n",
       "      <td>3.000000</td>\n",
       "      <td>4.000000</td>\n",
       "      <td>...</td>\n",
       "      <td>3.0</td>\n",
       "      <td>4.0</td>\n",
       "      <td>3.0</td>\n",
       "      <td>2.0</td>\n",
       "      <td>3.0</td>\n",
       "      <td>1.0</td>\n",
       "      <td>3.0</td>\n",
       "      <td>2.0</td>\n",
       "      <td>3.0</td>\n",
       "      <td>3.0</td>\n",
       "    </tr>\n",
       "    <tr>\n",
       "      <th>50%</th>\n",
       "      <td>3.000000</td>\n",
       "      <td>3.000000</td>\n",
       "      <td>4.000000</td>\n",
       "      <td>3.000000</td>\n",
       "      <td>4.000000</td>\n",
       "      <td>4.000000</td>\n",
       "      <td>4.000000</td>\n",
       "      <td>4.00000</td>\n",
       "      <td>4.000000</td>\n",
       "      <td>5.000000</td>\n",
       "      <td>...</td>\n",
       "      <td>3.0</td>\n",
       "      <td>4.0</td>\n",
       "      <td>3.0</td>\n",
       "      <td>2.0</td>\n",
       "      <td>3.0</td>\n",
       "      <td>1.0</td>\n",
       "      <td>3.0</td>\n",
       "      <td>2.0</td>\n",
       "      <td>3.0</td>\n",
       "      <td>3.0</td>\n",
       "    </tr>\n",
       "    <tr>\n",
       "      <th>75%</th>\n",
       "      <td>4.000000</td>\n",
       "      <td>4.000000</td>\n",
       "      <td>4.000000</td>\n",
       "      <td>4.000000</td>\n",
       "      <td>5.000000</td>\n",
       "      <td>5.000000</td>\n",
       "      <td>5.000000</td>\n",
       "      <td>5.00000</td>\n",
       "      <td>5.000000</td>\n",
       "      <td>5.000000</td>\n",
       "      <td>...</td>\n",
       "      <td>3.0</td>\n",
       "      <td>4.0</td>\n",
       "      <td>3.0</td>\n",
       "      <td>2.0</td>\n",
       "      <td>3.0</td>\n",
       "      <td>1.0</td>\n",
       "      <td>3.0</td>\n",
       "      <td>2.0</td>\n",
       "      <td>3.0</td>\n",
       "      <td>3.0</td>\n",
       "    </tr>\n",
       "    <tr>\n",
       "      <th>max</th>\n",
       "      <td>5.000000</td>\n",
       "      <td>5.000000</td>\n",
       "      <td>5.000000</td>\n",
       "      <td>5.000000</td>\n",
       "      <td>5.000000</td>\n",
       "      <td>5.000000</td>\n",
       "      <td>5.000000</td>\n",
       "      <td>5.00000</td>\n",
       "      <td>5.000000</td>\n",
       "      <td>5.000000</td>\n",
       "      <td>...</td>\n",
       "      <td>3.0</td>\n",
       "      <td>4.0</td>\n",
       "      <td>3.0</td>\n",
       "      <td>2.0</td>\n",
       "      <td>3.0</td>\n",
       "      <td>1.0</td>\n",
       "      <td>3.0</td>\n",
       "      <td>2.0</td>\n",
       "      <td>3.0</td>\n",
       "      <td>3.0</td>\n",
       "    </tr>\n",
       "  </tbody>\n",
       "</table>\n",
       "<p>8 rows × 1650 columns</p>\n",
       "</div>"
      ],
      "text/plain": [
       "             2          3           4          5          6           8     \\\n",
       "count  120.000000  83.000000  197.000000  79.000000  23.000000  210.000000   \n",
       "mean     3.208333   3.060241    3.543147   3.367089   3.739130    3.995238   \n",
       "std      0.969240   1.243023    0.971227   0.922333   1.214211    1.009513   \n",
       "min      1.000000   1.000000    1.000000   1.000000   1.000000    1.000000   \n",
       "25%      3.000000   2.000000    3.000000   3.000000   3.000000    3.000000   \n",
       "50%      3.000000   3.000000    4.000000   3.000000   4.000000    4.000000   \n",
       "75%      4.000000   4.000000    4.000000   4.000000   5.000000    5.000000   \n",
       "max      5.000000   5.000000    5.000000   5.000000   5.000000    5.000000   \n",
       "\n",
       "             9         10          11          12    ...  1673  1674  1675  \\\n",
       "count  291.000000  83.00000  225.000000  255.000000  ...   1.0   1.0   1.0   \n",
       "mean     3.893471   3.86747    3.871111    4.407843  ...   3.0   4.0   3.0   \n",
       "std      1.046666   1.02137    1.054883    0.787662  ...   NaN   NaN   NaN   \n",
       "min      1.000000   1.00000    1.000000    1.000000  ...   3.0   4.0   3.0   \n",
       "25%      3.000000   3.00000    3.000000    4.000000  ...   3.0   4.0   3.0   \n",
       "50%      4.000000   4.00000    4.000000    5.000000  ...   3.0   4.0   3.0   \n",
       "75%      5.000000   5.00000    5.000000    5.000000  ...   3.0   4.0   3.0   \n",
       "max      5.000000   5.00000    5.000000    5.000000  ...   3.0   4.0   3.0   \n",
       "\n",
       "       1676  1677  1678  1679  1680  1681  1682  \n",
       "count   1.0   1.0   1.0   1.0   1.0   1.0   1.0  \n",
       "mean    2.0   3.0   1.0   3.0   2.0   3.0   3.0  \n",
       "std     NaN   NaN   NaN   NaN   NaN   NaN   NaN  \n",
       "min     2.0   3.0   1.0   3.0   2.0   3.0   3.0  \n",
       "25%     2.0   3.0   1.0   3.0   2.0   3.0   3.0  \n",
       "50%     2.0   3.0   1.0   3.0   2.0   3.0   3.0  \n",
       "75%     2.0   3.0   1.0   3.0   2.0   3.0   3.0  \n",
       "max     2.0   3.0   1.0   3.0   2.0   3.0   3.0  \n",
       "\n",
       "[8 rows x 1650 columns]"
      ]
     },
     "execution_count": 23,
     "metadata": {},
     "output_type": "execute_result"
    }
   ],
   "source": [
    "removedOutliers.drop(columns= [\"userId\"]).describe()\n",
    "# pivotedData.to_csv(\"original.csv\", sep=',', encoding='utf-8', index=False, header=True)"
   ]
  },
  {
   "cell_type": "markdown",
   "id": "7a437325-6e93-4f16-b5a6-38ca913b0bf5",
   "metadata": {},
   "source": [
    "## Ploting ##\n",
    " plot the number of movies seen by each user, and the frequency of each rating"
   ]
  },
  {
   "cell_type": "code",
   "execution_count": 25,
   "id": "1b8e4636-8edd-448d-be8c-6ba91123aa53",
   "metadata": {},
   "outputs": [
    {
     "data": {
      "text/plain": [
       "(array([283., 170., 111.,  80.,  53.,  59.,  45.,  48.,  35.,  33.,  29.,\n",
       "         16.,  34.,  39.,  34.,  24.,  15.,  22.,  19.,  21.,  29.,  23.,\n",
       "         10.,  15.,   7.,  22.,  13.,  10.,  18.,  14.,   7.,   9.,  18.,\n",
       "          1.,   5.,   5.,   8.,  12.,   7.,   9.,  12.,  14.,   7.,  10.,\n",
       "          4.,   5.,   3.,   7.,   8.,   5.,   5.,   3.,  11.,   3.,   9.,\n",
       "          6.,   5.,   9.,   5.,   4.,   4.,   2.,   4.,   1.,   2.,   6.,\n",
       "          2.,   4.,   3.,   3.,   1.,   5.,   8.,   2.,   3.,   2.,   2.,\n",
       "          1.,   1.,   2.,   6.,   2.,   3.,   3.,   3.,   1.,   3.,   1.,\n",
       "          0.,   2.,   2.,   2.,   2.,   2.,   0.,   0.,   3.,   5.,   2.,\n",
       "          3.]),\n",
       " array([  0.  ,   2.91,   5.82,   8.73,  11.64,  14.55,  17.46,  20.37,\n",
       "         23.28,  26.19,  29.1 ,  32.01,  34.92,  37.83,  40.74,  43.65,\n",
       "         46.56,  49.47,  52.38,  55.29,  58.2 ,  61.11,  64.02,  66.93,\n",
       "         69.84,  72.75,  75.66,  78.57,  81.48,  84.39,  87.3 ,  90.21,\n",
       "         93.12,  96.03,  98.94, 101.85, 104.76, 107.67, 110.58, 113.49,\n",
       "        116.4 , 119.31, 122.22, 125.13, 128.04, 130.95, 133.86, 136.77,\n",
       "        139.68, 142.59, 145.5 , 148.41, 151.32, 154.23, 157.14, 160.05,\n",
       "        162.96, 165.87, 168.78, 171.69, 174.6 , 177.51, 180.42, 183.33,\n",
       "        186.24, 189.15, 192.06, 194.97, 197.88, 200.79, 203.7 , 206.61,\n",
       "        209.52, 212.43, 215.34, 218.25, 221.16, 224.07, 226.98, 229.89,\n",
       "        232.8 , 235.71, 238.62, 241.53, 244.44, 247.35, 250.26, 253.17,\n",
       "        256.08, 258.99, 261.9 , 264.81, 267.72, 270.63, 273.54, 276.45,\n",
       "        279.36, 282.27, 285.18, 288.09, 291.  ]),\n",
       " <BarContainer object of 100 artists>)"
      ]
     },
     "execution_count": 25,
     "metadata": {},
     "output_type": "execute_result"
    },
    {
     "data": {
      "image/png": "[encoded data removed]",
      "text/plain": [
       "<Figure size 640x480 with 1 Axes>"
      ]
     },
     "metadata": {},
     "output_type": "display_data"
    }
   ],
   "source": [
    "plt.title('Ratings per movie')\n",
    "plt.xlabel(\"Number of movies\")\n",
    "plt.ylabel(\"Number of ratings\")\n",
    "plt.hist(removedOutliers.drop(columns = \"userId\").count(), bins= 100)"
   ]
  },
  {
   "cell_type": "code",
   "execution_count": 27,
   "id": "ce48b36e-9005-402b-b7fc-bf5c7abd9ecf",
   "metadata": {},
   "outputs": [
    {
     "data": {
      "image/png": "[encoded data removed]",
      "text/plain": [
       "<Figure size 640x480 with 1 Axes>"
      ]
     },
     "metadata": {},
     "output_type": "display_data"
    }
   ],
   "source": [
    "ratingsPerUser = removedOutliers.drop(columns = \"userId\").notnull().sum(axis=1)\n",
    "\n",
    "ratingsPerUser.hist(bins=50)\n",
    "plt.title('ratings per user')\n",
    "plt.xlabel('Number of Ratings')\n",
    "plt.ylabel('Number of Users')\n",
    "plt.grid(False)\n",
    "plt.show()"
   ]
  },
  {
   "cell_type": "markdown",
   "id": "06413080-a1b6-458c-997d-7ff520469273",
   "metadata": {},
   "source": [
    "# Q2: Basic Recomended System"
   ]
  },
  {
   "cell_type": "markdown",
   "id": "4c313dee-960f-4898-9bb2-ae8dffa09876",
   "metadata": {},
   "source": [
    "## Spliting data into train and test ##"
   ]
  },
  {
   "cell_type": "code",
   "execution_count": null,
   "id": "6b7c2e38-4ca4-45c7-8b80-b5e347c9035c",
   "metadata": {},
   "outputs": [],
   "source": [
    "#random_state property allows for repitability of the spliting\n",
    "trainData= removedOutliers.sample(frac=0.8,random_state=200, axis= 0)\n",
    "testData= removedOutliers.drop(trainData.index)"
   ]
  },
  {
   "cell_type": "code",
   "execution_count": null,
   "id": "bde4f5fa-cf99-42b2-9947-2396ee938356",
   "metadata": {},
   "outputs": [],
   "source": [
    "#get the number of ratings a movie has\n",
    "movieRatingsCount = removedOutliers.drop(columns=\"userId\").notna().sum(axis= 0)"
   ]
  },
  {
   "cell_type": "code",
   "execution_count": null,
   "id": "ddedca1c-2ba5-42a7-95a2-b8af3fb92513",
   "metadata": {},
   "outputs": [],
   "source": []
  }
 ],
 "metadata": {
  "kernelspec": {
   "display_name": "Python 3 (ipykernel)",
   "language": "python",
   "name": "python3"
  },
  "language_info": {
   "codemirror_mode": {
    "name": "ipython",
    "version": 3
   },
   "file_extension": ".py",
   "mimetype": "text/x-python",
   "name": "python",
   "nbconvert_exporter": "python",
   "pygments_lexer": "ipython3",
   "version": "3.12.3"
  }
 },
 "nbformat": 4,
 "nbformat_minor": 5
}
