{
 "cells": [
  {
   "cell_type": "markdown",
   "id": "99483095-35d1-4f6b-9827-5de98b569854",
   "metadata": {},
   "source": [
    "# ITC 6001 - PROJECT - Introduction To Big Data #\n",
    "## Drouvas Panagiotis, Dendrinos Theodoros, Kontoudakis Nikolaos ##"
   ]
  },
  {
   "cell_type": "code",
   "execution_count": 2,
   "id": "a550b276-bed0-4056-b547-33a2112df493",
   "metadata": {},
   "outputs": [],
   "source": [
    "# import libraries\n",
    "import pandas as pd\n",
    "import numpy as np\n",
    "import os\n",
    "import matplotlib.pyplot as plt"
   ]
  },
  {
   "cell_type": "code",
   "execution_count": 37,
   "id": "fa8a43aa-59e9-420a-ae44-6e5896555109",
   "metadata": {},
   "outputs": [
    {
     "name": "stdout",
     "output_type": "stream",
     "text": [
      "/home/nikos\n"
     ]
    }
   ],
   "source": [
    "print(os.getcwd());\n",
    "# change the following on your pc!\n",
    "projectPath = \"/home/nikos/Documents/6001_project\"\n",
    "dataPath = projectPath + \"/ml-100k/u.data\"\n",
    "userPath = projectPath + \"/ml-100k/u.user\";"
   ]
  },
  {
   "cell_type": "markdown",
   "id": "78b51790-8124-4974-a269-14b45358c25f",
   "metadata": {},
   "source": [
    "# Q1"
   ]
  },
  {
   "cell_type": "markdown",
   "id": "d80df788-9917-4ac9-a56d-6fb696201338",
   "metadata": {},
   "source": [
    "## Read the data"
   ]
  },
  {
   "cell_type": "code",
   "execution_count": 41,
   "id": "378e3fde-e77a-4292-bf54-48ddc5583a41",
   "metadata": {},
   "outputs": [],
   "source": [
    "uData = pd.read_csv(dataPath, sep= '\\t', header= None, names=[\"userId\", \"itemId\", \"rating\", \"timestamp\"])\n",
    "pivotedData = uData.pivot(index=\"userId\", columns=\"itemId\", values=\"rating\").reset_index().rename_axis(None, axis=1)"
   ]
  },
  {
   "cell_type": "code",
   "execution_count": 43,
   "id": "b873c0e4-6e24-48e1-8f36-f8b881d6939d",
   "metadata": {},
   "outputs": [],
   "source": [
    "# #free testing area\n",
    "# display(pivotedData[pivotedData.userId== 916])\n",
    "# pivotedData.to_csv(\"export.csv\", sep='\\t', encoding='utf-8', index=False, header=True)\n",
    "# display(uData)\n",
    "# diferentPivotMovies = uData.pivot(index=\"itemId\", columns=\"userId\", values=\"rating\").reset_index().rename_axis(None, axis=1)\n",
    "# print(diferentPivotMovies)"
   ]
  },
  {
   "cell_type": "markdown",
   "id": "30a8fa46-4461-4ea5-ae1b-c89ca22e14a9",
   "metadata": {},
   "source": [
    "## Remove outliers ##"
   ]
  },
  {
   "cell_type": "code",
   "execution_count": 58,
   "id": "a7bb46fd-bbcc-4aa5-a9b1-0b2f239834cb",
   "metadata": {},
   "outputs": [
    {
     "name": "stdout",
     "output_type": "stream",
     "text": [
      "     userId    1    2    3    4    5    6    7    8    9  ...  1673  1674  \\\n",
      "0         1  5.0  3.0  4.0  3.0  3.0  5.0  4.0  1.0  5.0  ...   NaN   NaN   \n",
      "1         2  4.0  NaN  NaN  NaN  NaN  NaN  NaN  NaN  NaN  ...   NaN   NaN   \n",
      "2         3  NaN  NaN  NaN  NaN  NaN  NaN  NaN  NaN  NaN  ...   NaN   NaN   \n",
      "3         4  NaN  NaN  NaN  NaN  NaN  NaN  NaN  NaN  NaN  ...   NaN   NaN   \n",
      "4         5  4.0  3.0  NaN  NaN  NaN  NaN  NaN  NaN  NaN  ...   NaN   NaN   \n",
      "..      ...  ...  ...  ...  ...  ...  ...  ...  ...  ...  ...   ...   ...   \n",
      "938     939  NaN  NaN  NaN  NaN  NaN  NaN  NaN  NaN  5.0  ...   NaN   NaN   \n",
      "939     940  NaN  NaN  NaN  2.0  NaN  NaN  4.0  5.0  3.0  ...   NaN   NaN   \n",
      "940     941  5.0  NaN  NaN  NaN  NaN  NaN  4.0  NaN  NaN  ...   NaN   NaN   \n",
      "941     942  NaN  NaN  NaN  NaN  NaN  NaN  NaN  NaN  NaN  ...   NaN   NaN   \n",
      "942     943  NaN  5.0  NaN  NaN  NaN  NaN  NaN  NaN  3.0  ...   NaN   NaN   \n",
      "\n",
      "     1675  1676  1677  1678  1679  1680  1681  1682  \n",
      "0     NaN   NaN   NaN   NaN   NaN   NaN   NaN   NaN  \n",
      "1     NaN   NaN   NaN   NaN   NaN   NaN   NaN   NaN  \n",
      "2     NaN   NaN   NaN   NaN   NaN   NaN   NaN   NaN  \n",
      "3     NaN   NaN   NaN   NaN   NaN   NaN   NaN   NaN  \n",
      "4     NaN   NaN   NaN   NaN   NaN   NaN   NaN   NaN  \n",
      "..    ...   ...   ...   ...   ...   ...   ...   ...  \n",
      "938   NaN   NaN   NaN   NaN   NaN   NaN   NaN   NaN  \n",
      "939   NaN   NaN   NaN   NaN   NaN   NaN   NaN   NaN  \n",
      "940   NaN   NaN   NaN   NaN   NaN   NaN   NaN   NaN  \n",
      "941   NaN   NaN   NaN   NaN   NaN   NaN   NaN   NaN  \n",
      "942   NaN   NaN   NaN   NaN   NaN   NaN   NaN   NaN  \n",
      "\n",
      "[943 rows x 1683 columns]\n"
     ]
    }
   ],
   "source": [
    "#for movies\n",
    "# ratingsCount = diferentPivotMovies.drop(columns=\"itemId\").notna().sum()\n",
    "# ZScore = (ratingsCount - np.mean(ratingsCount)) / np.std(ratingsCount)\n",
    "# # due to the reletivelly high z index, there will be no outliers detected?\n",
    "# nonOutliers = (ZScore > -3)\n",
    "# nonOutliers = ratingsCount.index[nonOutliers]\n",
    "# removedOutliers = diferentPivotMovies[[\"itemId\"] + list(nonOutliers)]\n",
    "\n",
    "# THERE MIGHT BE NO OUTLIERS\n",
    "\n",
    "# for users\n",
    "ratingsCount = pivotedData.drop(columns=\"userId\").notna().sum()\n",
    "ZScore = (ratingsCount - np.mean(ratingsCount)) / np.std(ratingsCount)\n",
    "# due to the reletivelly high z index, there will be no outliers detected?\n",
    "nonOutliers = (ZScore > -3)\n",
    "nonOutliers = ratingsCount.index[nonOutliers]\n",
    "removedOutliers = pivotedData[[\"userId\"] + list(nonOutliers)]\n",
    "print(removedOutliers)"
   ]
  },
  {
   "cell_type": "markdown",
   "id": "2b37dc5f-acc9-4638-93ea-9e23c8eda2a5",
   "metadata": {},
   "source": [
    "## Information ##"
   ]
  },
  {
   "cell_type": "code",
   "execution_count": 52,
   "id": "ec26a113-ec2a-412f-83ec-e3e31a139133",
   "metadata": {},
   "outputs": [
    {
     "data": {
      "text/html": [
       "<div>\n",
       "<style scoped>\n",
       "    .dataframe tbody tr th:only-of-type {\n",
       "        vertical-align: middle;\n",
       "    }\n",
       "\n",
       "    .dataframe tbody tr th {\n",
       "        vertical-align: top;\n",
       "    }\n",
       "\n",
       "    .dataframe thead th {\n",
       "        text-align: right;\n",
       "    }\n",
       "</style>\n",
       "<table border=\"1\" class=\"dataframe\">\n",
       "  <thead>\n",
       "    <tr style=\"text-align: right;\">\n",
       "      <th></th>\n",
       "      <th>1</th>\n",
       "      <th>2</th>\n",
       "      <th>3</th>\n",
       "      <th>4</th>\n",
       "      <th>5</th>\n",
       "      <th>6</th>\n",
       "      <th>7</th>\n",
       "      <th>8</th>\n",
       "      <th>9</th>\n",
       "      <th>10</th>\n",
       "      <th>...</th>\n",
       "      <th>1673</th>\n",
       "      <th>1674</th>\n",
       "      <th>1675</th>\n",
       "      <th>1676</th>\n",
       "      <th>1677</th>\n",
       "      <th>1678</th>\n",
       "      <th>1679</th>\n",
       "      <th>1680</th>\n",
       "      <th>1681</th>\n",
       "      <th>1682</th>\n",
       "    </tr>\n",
       "  </thead>\n",
       "  <tbody>\n",
       "    <tr>\n",
       "      <th>count</th>\n",
       "      <td>452.000000</td>\n",
       "      <td>131.000000</td>\n",
       "      <td>90.000000</td>\n",
       "      <td>209.000000</td>\n",
       "      <td>86.000000</td>\n",
       "      <td>26.000000</td>\n",
       "      <td>392.000000</td>\n",
       "      <td>219.000000</td>\n",
       "      <td>299.000000</td>\n",
       "      <td>89.000000</td>\n",
       "      <td>...</td>\n",
       "      <td>1.0</td>\n",
       "      <td>1.0</td>\n",
       "      <td>1.0</td>\n",
       "      <td>1.0</td>\n",
       "      <td>1.0</td>\n",
       "      <td>1.0</td>\n",
       "      <td>1.0</td>\n",
       "      <td>1.0</td>\n",
       "      <td>1.0</td>\n",
       "      <td>1.0</td>\n",
       "    </tr>\n",
       "    <tr>\n",
       "      <th>mean</th>\n",
       "      <td>3.878319</td>\n",
       "      <td>3.206107</td>\n",
       "      <td>3.033333</td>\n",
       "      <td>3.550239</td>\n",
       "      <td>3.302326</td>\n",
       "      <td>3.576923</td>\n",
       "      <td>3.798469</td>\n",
       "      <td>3.995434</td>\n",
       "      <td>3.896321</td>\n",
       "      <td>3.831461</td>\n",
       "      <td>...</td>\n",
       "      <td>3.0</td>\n",
       "      <td>4.0</td>\n",
       "      <td>3.0</td>\n",
       "      <td>2.0</td>\n",
       "      <td>3.0</td>\n",
       "      <td>1.0</td>\n",
       "      <td>3.0</td>\n",
       "      <td>2.0</td>\n",
       "      <td>3.0</td>\n",
       "      <td>3.0</td>\n",
       "    </tr>\n",
       "    <tr>\n",
       "      <th>std</th>\n",
       "      <td>0.927897</td>\n",
       "      <td>0.966497</td>\n",
       "      <td>1.212760</td>\n",
       "      <td>0.965069</td>\n",
       "      <td>0.946446</td>\n",
       "      <td>1.301478</td>\n",
       "      <td>0.982037</td>\n",
       "      <td>1.002281</td>\n",
       "      <td>1.042368</td>\n",
       "      <td>1.013948</td>\n",
       "      <td>...</td>\n",
       "      <td>NaN</td>\n",
       "      <td>NaN</td>\n",
       "      <td>NaN</td>\n",
       "      <td>NaN</td>\n",
       "      <td>NaN</td>\n",
       "      <td>NaN</td>\n",
       "      <td>NaN</td>\n",
       "      <td>NaN</td>\n",
       "      <td>NaN</td>\n",
       "      <td>NaN</td>\n",
       "    </tr>\n",
       "    <tr>\n",
       "      <th>min</th>\n",
       "      <td>1.000000</td>\n",
       "      <td>1.000000</td>\n",
       "      <td>1.000000</td>\n",
       "      <td>1.000000</td>\n",
       "      <td>1.000000</td>\n",
       "      <td>1.000000</td>\n",
       "      <td>1.000000</td>\n",
       "      <td>1.000000</td>\n",
       "      <td>1.000000</td>\n",
       "      <td>1.000000</td>\n",
       "      <td>...</td>\n",
       "      <td>3.0</td>\n",
       "      <td>4.0</td>\n",
       "      <td>3.0</td>\n",
       "      <td>2.0</td>\n",
       "      <td>3.0</td>\n",
       "      <td>1.0</td>\n",
       "      <td>3.0</td>\n",
       "      <td>2.0</td>\n",
       "      <td>3.0</td>\n",
       "      <td>3.0</td>\n",
       "    </tr>\n",
       "    <tr>\n",
       "      <th>25%</th>\n",
       "      <td>3.000000</td>\n",
       "      <td>3.000000</td>\n",
       "      <td>2.000000</td>\n",
       "      <td>3.000000</td>\n",
       "      <td>3.000000</td>\n",
       "      <td>3.000000</td>\n",
       "      <td>3.000000</td>\n",
       "      <td>3.000000</td>\n",
       "      <td>3.000000</td>\n",
       "      <td>3.000000</td>\n",
       "      <td>...</td>\n",
       "      <td>3.0</td>\n",
       "      <td>4.0</td>\n",
       "      <td>3.0</td>\n",
       "      <td>2.0</td>\n",
       "      <td>3.0</td>\n",
       "      <td>1.0</td>\n",
       "      <td>3.0</td>\n",
       "      <td>2.0</td>\n",
       "      <td>3.0</td>\n",
       "      <td>3.0</td>\n",
       "    </tr>\n",
       "    <tr>\n",
       "      <th>50%</th>\n",
       "      <td>4.000000</td>\n",
       "      <td>3.000000</td>\n",
       "      <td>3.000000</td>\n",
       "      <td>4.000000</td>\n",
       "      <td>3.000000</td>\n",
       "      <td>4.000000</td>\n",
       "      <td>4.000000</td>\n",
       "      <td>4.000000</td>\n",
       "      <td>4.000000</td>\n",
       "      <td>4.000000</td>\n",
       "      <td>...</td>\n",
       "      <td>3.0</td>\n",
       "      <td>4.0</td>\n",
       "      <td>3.0</td>\n",
       "      <td>2.0</td>\n",
       "      <td>3.0</td>\n",
       "      <td>1.0</td>\n",
       "      <td>3.0</td>\n",
       "      <td>2.0</td>\n",
       "      <td>3.0</td>\n",
       "      <td>3.0</td>\n",
       "    </tr>\n",
       "    <tr>\n",
       "      <th>75%</th>\n",
       "      <td>5.000000</td>\n",
       "      <td>4.000000</td>\n",
       "      <td>4.000000</td>\n",
       "      <td>4.000000</td>\n",
       "      <td>4.000000</td>\n",
       "      <td>5.000000</td>\n",
       "      <td>5.000000</td>\n",
       "      <td>5.000000</td>\n",
       "      <td>5.000000</td>\n",
       "      <td>5.000000</td>\n",
       "      <td>...</td>\n",
       "      <td>3.0</td>\n",
       "      <td>4.0</td>\n",
       "      <td>3.0</td>\n",
       "      <td>2.0</td>\n",
       "      <td>3.0</td>\n",
       "      <td>1.0</td>\n",
       "      <td>3.0</td>\n",
       "      <td>2.0</td>\n",
       "      <td>3.0</td>\n",
       "      <td>3.0</td>\n",
       "    </tr>\n",
       "    <tr>\n",
       "      <th>max</th>\n",
       "      <td>5.000000</td>\n",
       "      <td>5.000000</td>\n",
       "      <td>5.000000</td>\n",
       "      <td>5.000000</td>\n",
       "      <td>5.000000</td>\n",
       "      <td>5.000000</td>\n",
       "      <td>5.000000</td>\n",
       "      <td>5.000000</td>\n",
       "      <td>5.000000</td>\n",
       "      <td>5.000000</td>\n",
       "      <td>...</td>\n",
       "      <td>3.0</td>\n",
       "      <td>4.0</td>\n",
       "      <td>3.0</td>\n",
       "      <td>2.0</td>\n",
       "      <td>3.0</td>\n",
       "      <td>1.0</td>\n",
       "      <td>3.0</td>\n",
       "      <td>2.0</td>\n",
       "      <td>3.0</td>\n",
       "      <td>3.0</td>\n",
       "    </tr>\n",
       "  </tbody>\n",
       "</table>\n",
       "<p>8 rows × 1682 columns</p>\n",
       "</div>"
      ],
      "text/plain": [
       "             1           2          3           4          5          6     \\\n",
       "count  452.000000  131.000000  90.000000  209.000000  86.000000  26.000000   \n",
       "mean     3.878319    3.206107   3.033333    3.550239   3.302326   3.576923   \n",
       "std      0.927897    0.966497   1.212760    0.965069   0.946446   1.301478   \n",
       "min      1.000000    1.000000   1.000000    1.000000   1.000000   1.000000   \n",
       "25%      3.000000    3.000000   2.000000    3.000000   3.000000   3.000000   \n",
       "50%      4.000000    3.000000   3.000000    4.000000   3.000000   4.000000   \n",
       "75%      5.000000    4.000000   4.000000    4.000000   4.000000   5.000000   \n",
       "max      5.000000    5.000000   5.000000    5.000000   5.000000   5.000000   \n",
       "\n",
       "             7           8           9          10    ...  1673  1674  1675  \\\n",
       "count  392.000000  219.000000  299.000000  89.000000  ...   1.0   1.0   1.0   \n",
       "mean     3.798469    3.995434    3.896321   3.831461  ...   3.0   4.0   3.0   \n",
       "std      0.982037    1.002281    1.042368   1.013948  ...   NaN   NaN   NaN   \n",
       "min      1.000000    1.000000    1.000000   1.000000  ...   3.0   4.0   3.0   \n",
       "25%      3.000000    3.000000    3.000000   3.000000  ...   3.0   4.0   3.0   \n",
       "50%      4.000000    4.000000    4.000000   4.000000  ...   3.0   4.0   3.0   \n",
       "75%      5.000000    5.000000    5.000000   5.000000  ...   3.0   4.0   3.0   \n",
       "max      5.000000    5.000000    5.000000   5.000000  ...   3.0   4.0   3.0   \n",
       "\n",
       "       1676  1677  1678  1679  1680  1681  1682  \n",
       "count   1.0   1.0   1.0   1.0   1.0   1.0   1.0  \n",
       "mean    2.0   3.0   1.0   3.0   2.0   3.0   3.0  \n",
       "std     NaN   NaN   NaN   NaN   NaN   NaN   NaN  \n",
       "min     2.0   3.0   1.0   3.0   2.0   3.0   3.0  \n",
       "25%     2.0   3.0   1.0   3.0   2.0   3.0   3.0  \n",
       "50%     2.0   3.0   1.0   3.0   2.0   3.0   3.0  \n",
       "75%     2.0   3.0   1.0   3.0   2.0   3.0   3.0  \n",
       "max     2.0   3.0   1.0   3.0   2.0   3.0   3.0  \n",
       "\n",
       "[8 rows x 1682 columns]"
      ]
     },
     "execution_count": 52,
     "metadata": {},
     "output_type": "execute_result"
    }
   ],
   "source": [
    "removedOutliers.drop(columns= \"userId\").describe()"
   ]
  },
  {
   "cell_type": "markdown",
   "id": "7a437325-6e93-4f16-b5a6-38ca913b0bf5",
   "metadata": {},
   "source": [
    "## Ploting ##\n",
    " plot the number of movies seen by each user, and the frequency of each rating"
   ]
  },
  {
   "cell_type": "code",
   "execution_count": 86,
   "id": "1b8e4636-8edd-448d-be8c-6ba91123aa53",
   "metadata": {},
   "outputs": [
    {
     "data": {
      "text/plain": [
       "(array([423., 188., 114.,  85.,  74.,  55.,  58.,  65.,  44.,  40.,  37.,\n",
       "         38.,  28.,  31.,  21.,  28.,  15.,  22.,  10.,  19.,  15.,  30.,\n",
       "         10.,  13.,   7.,  15.,  10.,  10.,  10.,  19.,  11.,   6.,   6.,\n",
       "          6.,   5.,   8.,   5.,  12.,   4.,   4.,   3.,   7.,   7.,   4.,\n",
       "          3.,   4.,   1.,   5.,   2.,   2.,   7.,   6.,   0.,   1.,   3.,\n",
       "          2.,   1.,   1.,   1.,   2.,   0.,   0.,   2.,   0.,   1.,   1.,\n",
       "          1.,   2.,   0.,   0.,   1.,   1.,   0.,   2.,   0.,   0.,   0.,\n",
       "          1.,   0.,   0.,   0.,   1.,   1.,   1.,   0.,   0.,   1.,   2.,\n",
       "          0.,   0.,   0.,   0.,   0.,   0.,   0.,   0.,   0.,   0.,   0.,\n",
       "          1.]),\n",
       " array([  1.  ,   6.82,  12.64,  18.46,  24.28,  30.1 ,  35.92,  41.74,\n",
       "         47.56,  53.38,  59.2 ,  65.02,  70.84,  76.66,  82.48,  88.3 ,\n",
       "         94.12,  99.94, 105.76, 111.58, 117.4 , 123.22, 129.04, 134.86,\n",
       "        140.68, 146.5 , 152.32, 158.14, 163.96, 169.78, 175.6 , 181.42,\n",
       "        187.24, 193.06, 198.88, 204.7 , 210.52, 216.34, 222.16, 227.98,\n",
       "        233.8 , 239.62, 245.44, 251.26, 257.08, 262.9 , 268.72, 274.54,\n",
       "        280.36, 286.18, 292.  , 297.82, 303.64, 309.46, 315.28, 321.1 ,\n",
       "        326.92, 332.74, 338.56, 344.38, 350.2 , 356.02, 361.84, 367.66,\n",
       "        373.48, 379.3 , 385.12, 390.94, 396.76, 402.58, 408.4 , 414.22,\n",
       "        420.04, 425.86, 431.68, 437.5 , 443.32, 449.14, 454.96, 460.78,\n",
       "        466.6 , 472.42, 478.24, 484.06, 489.88, 495.7 , 501.52, 507.34,\n",
       "        513.16, 518.98, 524.8 , 530.62, 536.44, 542.26, 548.08, 553.9 ,\n",
       "        559.72, 565.54, 571.36, 577.18, 583.  ]),\n",
       " <BarContainer object of 100 artists>)"
      ]
     },
     "execution_count": 86,
     "metadata": {},
     "output_type": "execute_result"
    },
    {
     "data": {
      "image/png": "[encoded data removed]",
      "text/plain": [
       "<Figure size 640x480 with 1 Axes>"
      ]
     },
     "metadata": {},
     "output_type": "display_data"
    }
   ],
   "source": [
    "plt.title('Ratings per movie')\n",
    "plt.xlabel(\"Number of movies\")\n",
    "plt.ylabel(\"Number of ratings\")\n",
    "plt.hist(removedOutliers.drop(columns = \"userId\").count(), bins= 100)"
   ]
  },
  {
   "cell_type": "code",
   "execution_count": 102,
   "id": "ce48b36e-9005-402b-b7fc-bf5c7abd9ecf",
   "metadata": {},
   "outputs": [
    {
     "data": {
      "image/png": "[encoded data removed]",
      "text/plain": [
       "<Figure size 640x480 with 1 Axes>"
      ]
     },
     "metadata": {},
     "output_type": "display_data"
    }
   ],
   "source": [
    "ratingsPerUser = removedOutliers.drop(columns = \"userId\").notnull().sum(axis=1)\n",
    "\n",
    "ratingsPerUser.hist(bins=50)\n",
    "plt.title('ratings per user')\n",
    "plt.xlabel('Number of Ratings')\n",
    "plt.ylabel('Number of Users')\n",
    "plt.grid(False)\n",
    "plt.show()"
   ]
  },
  {
   "cell_type": "code",
   "execution_count": null,
   "id": "0cc4f01b-9aa6-4ae9-915a-f222a5611811",
   "metadata": {},
   "outputs": [],
   "source": []
  }
 ],
 "metadata": {
  "kernelspec": {
   "display_name": "Python 3 (ipykernel)",
   "language": "python",
   "name": "python3"
  },
  "language_info": {
   "codemirror_mode": {
    "name": "ipython",
    "version": 3
   },
   "file_extension": ".py",
   "mimetype": "text/x-python",
   "name": "python",
   "nbconvert_exporter": "python",
   "pygments_lexer": "ipython3",
   "version": "3.12.3"
  }
 },
 "nbformat": 4,
 "nbformat_minor": 5
}
